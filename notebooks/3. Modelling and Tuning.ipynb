{
 "cells": [
  {
   "cell_type": "code",
   "execution_count": 1,
   "metadata": {},
   "outputs": [],
   "source": [
    "import pandas as pd\n",
    "import numpy as np\n",
    "\n",
    "from sklearn import preprocessing\n",
    "from sklearn.naive_bayes import GaussianNB\n",
    "from sklearn.linear_model import LogisticRegression\n",
    "from sklearn.neighbors import KNeighborsClassifier\n",
    "from sklearn.tree import DecisionTreeClassifier\n",
    "from sklearn.neural_network import MLPClassifier\n",
    "\n",
    "from sklearn.model_selection import train_test_split, KFold, cross_val_score, GridSearchCV\n",
    "\n",
    "from sklearn.metrics import accuracy_score, recall_score, precision_score\n",
    "\n",
    "import pickle\n",
    "\n",
    "import warnings\n",
    "\n",
    "warnings.filterwarnings('ignore')"
   ]
  },
  {
   "cell_type": "markdown",
   "metadata": {},
   "source": [
    "# Load data"
   ]
  },
  {
   "cell_type": "markdown",
   "metadata": {},
   "source": [
    "### Initialize path constant"
   ]
  },
  {
   "cell_type": "code",
   "execution_count": 2,
   "metadata": {},
   "outputs": [],
   "source": [
    "DATA_PATH = '../data'\n",
    "RAW_DATA_PATH = '{}/raw'.format(DATA_PATH)\n",
    "PROCESSED_DATA_PATH = '{}/processed'.format(DATA_PATH)\n",
    "\n",
    "MODEL_PATH = '../models'"
   ]
  },
  {
   "cell_type": "markdown",
   "metadata": {},
   "source": [
    "### Read processed data from CSV"
   ]
  },
  {
   "cell_type": "code",
   "execution_count": 17,
   "metadata": {},
   "outputs": [],
   "source": [
    "# data = pd.read_csv('{}/processed_data.csv'.format(PROCESSED_DATA_PATH))\n",
    "data = pd.read_csv('{}/processed_data.csv'.format(PROCESSED_DATA_PATH))\n",
    "X_df = data.drop(['heart_disease_diagnosis'], axis=1)\n",
    "X = X_df.values\n",
    "y = data['heart_disease_diagnosis'].values"
   ]
  },
  {
   "cell_type": "markdown",
   "metadata": {},
   "source": [
    "# Feature Elimination Function"
   ]
  },
  {
   "cell_type": "code",
   "execution_count": 59,
   "metadata": {},
   "outputs": [],
   "source": [
    "from itertools import chain, combinations\n",
    "\n",
    "# RFE-ish with no rank. kwargs = arguments to be passed to the scorer\n",
    "# Maybe create a custom scoring function for combining multiple score?\n",
    "# X HAS TO BE DATAFRAME, because it supports .drop()\n",
    "def rfe_no_rank(model, X_train, X_vali, y_train, y_vali, scorer, **kwargs):\n",
    "    attr_to_drop = []\n",
    "    best_target_yet = 0\n",
    "    attributes = X_train.columns.values.tolist()\n",
    "    # For every element in the attribute powerset...\n",
    "    for subset in chain.from_iterable(combinations(attributes, r) for r in range(len(attributes))):\n",
    "        # ...fit, predict, and calculate score without them\n",
    "        model.fit(X_train.drop(list(subset), axis=1), y_train)\n",
    "        y_pred = model.predict(X_vali.drop(list(subset), axis=1))\n",
    "        target_now = scorer(y_pred, y_vali, **kwargs)\n",
    "        if target_now > best_target_yet:\n",
    "            best_target_yet = target_now\n",
    "            attr_to_drop = list(subset)\n",
    "    return attr_to_drop, best_target_yet"
   ]
  },
  {
   "cell_type": "markdown",
   "metadata": {},
   "source": [
    "# Cross Validation"
   ]
  },
  {
   "cell_type": "markdown",
   "metadata": {},
   "source": [
    "### CV Function"
   ]
  },
  {
   "cell_type": "code",
   "execution_count": 4,
   "metadata": {},
   "outputs": [],
   "source": [
    "def get_kfold():\n",
    "    return KFold(n_splits=5, shuffle=True, random_state=1)\n",
    "\n",
    "def print_cv_result(model, X, y):\n",
    "    accuracy_scores = []\n",
    "    precision_scores = []\n",
    "    recall_scores = []\n",
    "    \n",
    "    kfold = get_kfold()\n",
    "    \n",
    "    for train_idx, validation_idx in kfold.split(X, y):\n",
    "        X_train = X[train_idx]\n",
    "        y_train = y[train_idx]\n",
    "        X_validation = X[validation_idx]\n",
    "        y_validation = y[validation_idx]\n",
    "\n",
    "        model.fit(X_train, y_train)\n",
    "\n",
    "        prediction = model.predict(X_validation)\n",
    "\n",
    "        accuracy = accuracy_score(y_validation, prediction)\n",
    "        precision = precision_score(y_validation, prediction, average='macro')\n",
    "        recall = recall_score(y_validation, prediction, average='macro')\n",
    "\n",
    "        accuracy_scores.append(accuracy)\n",
    "        precision_scores.append(precision)\n",
    "        recall_scores.append(recall)\n",
    "    \n",
    "    print('--- Validation Metrics ---')\n",
    "    print('Accuracy  = {:.3f}'.format(np.mean(accuracy_scores)))\n",
    "    print('Precision = {:.3f}'.format(np.mean(precision_scores)))\n",
    "    print('Recall    = {:.3f}'.format(np.mean(recall_scores)))"
   ]
  },
  {
   "cell_type": "markdown",
   "metadata": {},
   "source": [
    "## Models"
   ]
  },
  {
   "cell_type": "markdown",
   "metadata": {},
   "source": [
    "### Naive Bayes"
   ]
  },
  {
   "cell_type": "code",
   "execution_count": 5,
   "metadata": {},
   "outputs": [
    {
     "name": "stdout",
     "output_type": "stream",
     "text": [
      "=== Naive Bayes ===\n",
      "\n",
      "--- Validation Metrics ---\n",
      "Accuracy  = 0.531\n",
      "Precision = 0.348\n",
      "Recall    = 0.343\n"
     ]
    }
   ],
   "source": [
    "model_name = 'Naive Bayes'\n",
    "nb_model = GaussianNB()\n",
    "\n",
    "print('=== {} ===\\n'.format(model_name))\n",
    "print_cv_result(nb_model, X, y)"
   ]
  },
  {
   "cell_type": "markdown",
   "metadata": {},
   "source": [
    "### KNN"
   ]
  },
  {
   "cell_type": "markdown",
   "metadata": {},
   "source": [
    "In K-Nearest Neighbors algorithm, it's really important to scale the features first (feature scaling).\n",
    "Since the range of values of raw data varies widely, in K-Nearest Neighbors algoritm, objective functions will not work properly without normalization. For example, the majority of classifiers calculate the distance between two points by the Euclidean distance. If one of the features has a broad range of values, the distance will be governed by this particular feature. Therefore, the range of all features should be normalized so that each feature contributes approximately proportionately to the final distance."
   ]
  },
  {
   "cell_type": "code",
   "execution_count": 6,
   "metadata": {},
   "outputs": [
    {
     "name": "stdout",
     "output_type": "stream",
     "text": [
      "=== K-Nearest Neighbor ===\n",
      "\n",
      "--- Validation Metrics ---\n",
      "Accuracy  = 0.546\n",
      "Precision = 0.350\n",
      "Recall    = 0.331\n"
     ]
    }
   ],
   "source": [
    "model_name = 'K-Nearest Neighbor'\n",
    "knn_model = KNeighborsClassifier()\n",
    "X_Scaled = preprocessing.scale(X)\n",
    "\n",
    "print('=== {} ===\\n'.format(model_name))\n",
    "print_cv_result(knn_model, X_Scaled, y)"
   ]
  },
  {
   "cell_type": "markdown",
   "metadata": {},
   "source": [
    "### Decision Tree"
   ]
  },
  {
   "cell_type": "code",
   "execution_count": 60,
   "metadata": {},
   "outputs": [
    {
     "name": "stdout",
     "output_type": "stream",
     "text": [
      "=== Decision Tree ===\n",
      "\n",
      "--- Validation Metrics ---\n",
      "Accuracy  = 0.451\n",
      "Precision = 0.320\n",
      "Recall    = 0.299\n"
     ]
    },
    {
     "data": {
      "text/plain": [
       "(['age',\n",
       "  'resting_blood_pressure',\n",
       "  'serum_cholestrol',\n",
       "  'resting_ECG',\n",
       "  'max_heart_rate_achieved',\n",
       "  'ST_depression',\n",
       "  'peak_exercise_ST_segment'],\n",
       " 0.5770609318996416)"
      ]
     },
     "execution_count": 60,
     "metadata": {},
     "output_type": "execute_result"
    }
   ],
   "source": [
    "model_name = 'Decision Tree'\n",
    "dtc_model = DecisionTreeClassifier(criterion='entropy', random_state=1)\n",
    "\n",
    "print('=== {} ===\\n'.format(model_name))\n",
    "print_cv_result(dtc_model, X, y)\n",
    "\n",
    "rfe_no_rank(dtc_model, X_df[:500], X_df[500:], y[:500], y[500:], accuracy_score)"
   ]
  },
  {
   "cell_type": "markdown",
   "metadata": {},
   "source": [
    "### ANN"
   ]
  },
  {
   "cell_type": "code",
   "execution_count": 8,
   "metadata": {},
   "outputs": [
    {
     "name": "stdout",
     "output_type": "stream",
     "text": [
      "=== ANN ===\n",
      "\n",
      "--- Validation Metrics ---\n",
      "Accuracy  = 0.570\n",
      "Precision = 0.317\n",
      "Recall    = 0.329\n"
     ]
    }
   ],
   "source": [
    "model_name = 'ANN'\n",
    "ann_model = MLPClassifier(random_state=1, activation='logistic')\n",
    "X_Scaled = preprocessing.scale(X)\n",
    "\n",
    "print('=== {} ===\\n'.format(model_name))\n",
    "print_cv_result(ann_model, X_Scaled, y)"
   ]
  },
  {
   "cell_type": "markdown",
   "metadata": {},
   "source": [
    "# Tune Best Base Model"
   ]
  },
  {
   "cell_type": "code",
   "execution_count": 9,
   "metadata": {
    "scrolled": true
   },
   "outputs": [
    {
     "name": "stdout",
     "output_type": "stream",
     "text": [
      "Fitting 5 folds for each of 144 candidates, totalling 720 fits\n",
      "[CV] alpha=0.0001, hidden_layer_sizes=(50,), learning_rate=constant, solver=lbfgs \n",
      "[CV]  alpha=0.0001, hidden_layer_sizes=(50,), learning_rate=constant, solver=lbfgs, score=0.4551282051282051, total=   0.4s\n",
      "[CV] alpha=0.0001, hidden_layer_sizes=(50,), learning_rate=constant, solver=lbfgs \n"
     ]
    },
    {
     "name": "stderr",
     "output_type": "stream",
     "text": [
      "[Parallel(n_jobs=1)]: Done   1 out of   1 | elapsed:    0.4s remaining:    0.0s\n"
     ]
    },
    {
     "name": "stdout",
     "output_type": "stream",
     "text": [
      "[CV]  alpha=0.0001, hidden_layer_sizes=(50,), learning_rate=constant, solver=lbfgs, score=0.5256410256410257, total=   0.4s\n",
      "[CV] alpha=0.0001, hidden_layer_sizes=(50,), learning_rate=constant, solver=lbfgs \n"
     ]
    },
    {
     "name": "stderr",
     "output_type": "stream",
     "text": [
      "[Parallel(n_jobs=1)]: Done   2 out of   2 | elapsed:    0.8s remaining:    0.0s\n"
     ]
    },
    {
     "name": "stdout",
     "output_type": "stream",
     "text": [
      "[CV]  alpha=0.0001, hidden_layer_sizes=(50,), learning_rate=constant, solver=lbfgs, score=0.4935897435897436, total=   0.4s\n",
      "[CV] alpha=0.0001, hidden_layer_sizes=(50,), learning_rate=constant, solver=lbfgs \n"
     ]
    },
    {
     "name": "stderr",
     "output_type": "stream",
     "text": [
      "[Parallel(n_jobs=1)]: Done   3 out of   3 | elapsed:    1.2s remaining:    0.0s\n"
     ]
    },
    {
     "name": "stdout",
     "output_type": "stream",
     "text": [
      "[CV]  alpha=0.0001, hidden_layer_sizes=(50,), learning_rate=constant, solver=lbfgs, score=0.5, total=   0.4s\n",
      "[CV] alpha=0.0001, hidden_layer_sizes=(50,), learning_rate=constant, solver=lbfgs \n"
     ]
    },
    {
     "name": "stderr",
     "output_type": "stream",
     "text": [
      "[Parallel(n_jobs=1)]: Done   4 out of   4 | elapsed:    1.6s remaining:    0.0s\n"
     ]
    },
    {
     "name": "stdout",
     "output_type": "stream",
     "text": [
      "[CV]  alpha=0.0001, hidden_layer_sizes=(50,), learning_rate=constant, solver=lbfgs, score=0.44516129032258067, total=   0.4s\n",
      "[CV] alpha=0.0001, hidden_layer_sizes=(50,), learning_rate=constant, solver=sgd \n"
     ]
    },
    {
     "name": "stderr",
     "output_type": "stream",
     "text": [
      "[Parallel(n_jobs=1)]: Done   5 out of   5 | elapsed:    2.0s remaining:    0.0s\n"
     ]
    },
    {
     "name": "stdout",
     "output_type": "stream",
     "text": [
      "[CV]  alpha=0.0001, hidden_layer_sizes=(50,), learning_rate=constant, solver=sgd, score=0.5128205128205128, total=   0.8s\n",
      "[CV] alpha=0.0001, hidden_layer_sizes=(50,), learning_rate=constant, solver=sgd \n"
     ]
    },
    {
     "name": "stderr",
     "output_type": "stream",
     "text": [
      "[Parallel(n_jobs=1)]: Done   6 out of   6 | elapsed:    2.8s remaining:    0.0s\n"
     ]
    },
    {
     "name": "stdout",
     "output_type": "stream",
     "text": [
      "[CV]  alpha=0.0001, hidden_layer_sizes=(50,), learning_rate=constant, solver=sgd, score=0.5064102564102564, total=   0.8s\n",
      "[CV] alpha=0.0001, hidden_layer_sizes=(50,), learning_rate=constant, solver=sgd \n"
     ]
    },
    {
     "name": "stderr",
     "output_type": "stream",
     "text": [
      "[Parallel(n_jobs=1)]: Done   7 out of   7 | elapsed:    3.6s remaining:    0.0s\n"
     ]
    },
    {
     "name": "stdout",
     "output_type": "stream",
     "text": [
      "[CV]  alpha=0.0001, hidden_layer_sizes=(50,), learning_rate=constant, solver=sgd, score=0.5448717948717948, total=   0.8s\n",
      "[CV] alpha=0.0001, hidden_layer_sizes=(50,), learning_rate=constant, solver=sgd \n"
     ]
    },
    {
     "name": "stderr",
     "output_type": "stream",
     "text": [
      "[Parallel(n_jobs=1)]: Done   8 out of   8 | elapsed:    4.3s remaining:    0.0s\n"
     ]
    },
    {
     "name": "stdout",
     "output_type": "stream",
     "text": [
      "[CV]  alpha=0.0001, hidden_layer_sizes=(50,), learning_rate=constant, solver=sgd, score=0.6217948717948718, total=   0.8s\n",
      "[CV] alpha=0.0001, hidden_layer_sizes=(50,), learning_rate=constant, solver=sgd \n"
     ]
    },
    {
     "name": "stderr",
     "output_type": "stream",
     "text": [
      "[Parallel(n_jobs=1)]: Done   9 out of   9 | elapsed:    5.1s remaining:    0.0s\n"
     ]
    },
    {
     "name": "stdout",
     "output_type": "stream",
     "text": [
      "[CV]  alpha=0.0001, hidden_layer_sizes=(50,), learning_rate=constant, solver=sgd, score=0.5161290322580645, total=   0.8s\n",
      "[CV] alpha=0.0001, hidden_layer_sizes=(50,), learning_rate=constant, solver=adam \n"
     ]
    },
    {
     "name": "stderr",
     "output_type": "stream",
     "text": [
      "[Parallel(n_jobs=1)]: Done  10 out of  10 | elapsed:    5.9s remaining:    0.0s\n"
     ]
    },
    {
     "name": "stdout",
     "output_type": "stream",
     "text": [
      "[CV]  alpha=0.0001, hidden_layer_sizes=(50,), learning_rate=constant, solver=adam, score=0.5897435897435898, total=   0.5s\n",
      "[CV] alpha=0.0001, hidden_layer_sizes=(50,), learning_rate=constant, solver=adam \n"
     ]
    },
    {
     "name": "stderr",
     "output_type": "stream",
     "text": [
      "[Parallel(n_jobs=1)]: Done  11 out of  11 | elapsed:    6.4s remaining:    0.0s\n"
     ]
    },
    {
     "name": "stdout",
     "output_type": "stream",
     "text": [
      "[CV]  alpha=0.0001, hidden_layer_sizes=(50,), learning_rate=constant, solver=adam, score=0.5833333333333334, total=   0.6s\n",
      "[CV] alpha=0.0001, hidden_layer_sizes=(50,), learning_rate=constant, solver=adam \n"
     ]
    },
    {
     "name": "stderr",
     "output_type": "stream",
     "text": [
      "[Parallel(n_jobs=1)]: Done  12 out of  12 | elapsed:    7.0s remaining:    0.0s\n"
     ]
    },
    {
     "name": "stdout",
     "output_type": "stream",
     "text": [
      "[CV]  alpha=0.0001, hidden_layer_sizes=(50,), learning_rate=constant, solver=adam, score=0.5897435897435898, total=   0.5s\n",
      "[CV] alpha=0.0001, hidden_layer_sizes=(50,), learning_rate=constant, solver=adam \n"
     ]
    },
    {
     "name": "stderr",
     "output_type": "stream",
     "text": [
      "[Parallel(n_jobs=1)]: Done  13 out of  13 | elapsed:    7.5s remaining:    0.0s\n"
     ]
    },
    {
     "name": "stdout",
     "output_type": "stream",
     "text": [
      "[CV]  alpha=0.0001, hidden_layer_sizes=(50,), learning_rate=constant, solver=adam, score=0.5641025641025641, total=   0.6s\n",
      "[CV] alpha=0.0001, hidden_layer_sizes=(50,), learning_rate=constant, solver=adam \n"
     ]
    },
    {
     "name": "stderr",
     "output_type": "stream",
     "text": [
      "[Parallel(n_jobs=1)]: Done  14 out of  14 | elapsed:    8.0s remaining:    0.0s\n"
     ]
    },
    {
     "name": "stdout",
     "output_type": "stream",
     "text": [
      "[CV]  alpha=0.0001, hidden_layer_sizes=(50,), learning_rate=constant, solver=adam, score=0.5483870967741935, total=   0.6s\n",
      "[CV] alpha=0.0001, hidden_layer_sizes=(50,), learning_rate=invscaling, solver=lbfgs \n"
     ]
    },
    {
     "name": "stderr",
     "output_type": "stream",
     "text": [
      "[Parallel(n_jobs=1)]: Done  15 out of  15 | elapsed:    8.6s remaining:    0.0s\n"
     ]
    },
    {
     "name": "stdout",
     "output_type": "stream",
     "text": [
      "[CV]  alpha=0.0001, hidden_layer_sizes=(50,), learning_rate=invscaling, solver=lbfgs, score=0.4551282051282051, total=   0.4s\n",
      "[CV] alpha=0.0001, hidden_layer_sizes=(50,), learning_rate=invscaling, solver=lbfgs \n"
     ]
    },
    {
     "name": "stderr",
     "output_type": "stream",
     "text": [
      "[Parallel(n_jobs=1)]: Done  16 out of  16 | elapsed:    9.0s remaining:    0.0s\n"
     ]
    },
    {
     "name": "stdout",
     "output_type": "stream",
     "text": [
      "[CV]  alpha=0.0001, hidden_layer_sizes=(50,), learning_rate=invscaling, solver=lbfgs, score=0.5256410256410257, total=   0.4s\n",
      "[CV] alpha=0.0001, hidden_layer_sizes=(50,), learning_rate=invscaling, solver=lbfgs \n"
     ]
    },
    {
     "name": "stderr",
     "output_type": "stream",
     "text": [
      "[Parallel(n_jobs=1)]: Done  17 out of  17 | elapsed:    9.4s remaining:    0.0s\n"
     ]
    },
    {
     "name": "stdout",
     "output_type": "stream",
     "text": [
      "[CV]  alpha=0.0001, hidden_layer_sizes=(50,), learning_rate=invscaling, solver=lbfgs, score=0.4935897435897436, total=   0.4s\n",
      "[CV] alpha=0.0001, hidden_layer_sizes=(50,), learning_rate=invscaling, solver=lbfgs \n"
     ]
    },
    {
     "name": "stderr",
     "output_type": "stream",
     "text": [
      "[Parallel(n_jobs=1)]: Done  18 out of  18 | elapsed:    9.8s remaining:    0.0s\n"
     ]
    },
    {
     "name": "stdout",
     "output_type": "stream",
     "text": [
      "[CV]  alpha=0.0001, hidden_layer_sizes=(50,), learning_rate=invscaling, solver=lbfgs, score=0.5, total=   0.4s\n",
      "[CV] alpha=0.0001, hidden_layer_sizes=(50,), learning_rate=invscaling, solver=lbfgs \n"
     ]
    },
    {
     "name": "stderr",
     "output_type": "stream",
     "text": [
      "[Parallel(n_jobs=1)]: Done  19 out of  19 | elapsed:   10.2s remaining:    0.0s\n"
     ]
    },
    {
     "name": "stdout",
     "output_type": "stream",
     "text": [
      "[CV]  alpha=0.0001, hidden_layer_sizes=(50,), learning_rate=invscaling, solver=lbfgs, score=0.44516129032258067, total=   0.4s\n",
      "[CV] alpha=0.0001, hidden_layer_sizes=(50,), learning_rate=invscaling, solver=sgd \n",
      "[CV]  alpha=0.0001, hidden_layer_sizes=(50,), learning_rate=invscaling, solver=sgd, score=0.33974358974358976, total=   0.8s\n",
      "[CV] alpha=0.0001, hidden_layer_sizes=(50,), learning_rate=invscaling, solver=sgd \n",
      "[CV]  alpha=0.0001, hidden_layer_sizes=(50,), learning_rate=invscaling, solver=sgd, score=0.2948717948717949, total=   0.8s\n",
      "[CV] alpha=0.0001, hidden_layer_sizes=(50,), learning_rate=invscaling, solver=sgd \n",
      "[CV]  alpha=0.0001, hidden_layer_sizes=(50,), learning_rate=invscaling, solver=sgd, score=0.27564102564102566, total=   0.8s\n",
      "[CV] alpha=0.0001, hidden_layer_sizes=(50,), learning_rate=invscaling, solver=sgd \n",
      "[CV]  alpha=0.0001, hidden_layer_sizes=(50,), learning_rate=invscaling, solver=sgd, score=0.27564102564102566, total=   0.8s\n",
      "[CV] alpha=0.0001, hidden_layer_sizes=(50,), learning_rate=invscaling, solver=sgd \n",
      "[CV]  alpha=0.0001, hidden_layer_sizes=(50,), learning_rate=invscaling, solver=sgd, score=0.3096774193548387, total=   0.8s\n",
      "[CV] alpha=0.0001, hidden_layer_sizes=(50,), learning_rate=invscaling, solver=adam \n",
      "[CV]  alpha=0.0001, hidden_layer_sizes=(50,), learning_rate=invscaling, solver=adam, score=0.5897435897435898, total=   0.5s\n",
      "[CV] alpha=0.0001, hidden_layer_sizes=(50,), learning_rate=invscaling, solver=adam \n",
      "[CV]  alpha=0.0001, hidden_layer_sizes=(50,), learning_rate=invscaling, solver=adam, score=0.5833333333333334, total=   0.6s\n",
      "[CV] alpha=0.0001, hidden_layer_sizes=(50,), learning_rate=invscaling, solver=adam \n",
      "[CV]  alpha=0.0001, hidden_layer_sizes=(50,), learning_rate=invscaling, solver=adam, score=0.5897435897435898, total=   0.5s\n",
      "[CV] alpha=0.0001, hidden_layer_sizes=(50,), learning_rate=invscaling, solver=adam \n",
      "[CV]  alpha=0.0001, hidden_layer_sizes=(50,), learning_rate=invscaling, solver=adam, score=0.5641025641025641, total=   0.6s\n",
      "[CV] alpha=0.0001, hidden_layer_sizes=(50,), learning_rate=invscaling, solver=adam \n",
      "[CV]  alpha=0.0001, hidden_layer_sizes=(50,), learning_rate=invscaling, solver=adam, score=0.5483870967741935, total=   0.6s\n",
      "[CV] alpha=0.0001, hidden_layer_sizes=(50,), learning_rate=adaptive, solver=lbfgs \n",
      "[CV]  alpha=0.0001, hidden_layer_sizes=(50,), learning_rate=adaptive, solver=lbfgs, score=0.4551282051282051, total=   0.4s\n",
      "[CV] alpha=0.0001, hidden_layer_sizes=(50,), learning_rate=adaptive, solver=lbfgs \n",
      "[CV]  alpha=0.0001, hidden_layer_sizes=(50,), learning_rate=adaptive, solver=lbfgs, score=0.5256410256410257, total=   0.4s\n",
      "[CV] alpha=0.0001, hidden_layer_sizes=(50,), learning_rate=adaptive, solver=lbfgs \n",
      "[CV]  alpha=0.0001, hidden_layer_sizes=(50,), learning_rate=adaptive, solver=lbfgs, score=0.4935897435897436, total=   0.4s\n",
      "[CV] alpha=0.0001, hidden_layer_sizes=(50,), learning_rate=adaptive, solver=lbfgs \n",
      "[CV]  alpha=0.0001, hidden_layer_sizes=(50,), learning_rate=adaptive, solver=lbfgs, score=0.5, total=   0.4s\n",
      "[CV] alpha=0.0001, hidden_layer_sizes=(50,), learning_rate=adaptive, solver=lbfgs \n",
      "[CV]  alpha=0.0001, hidden_layer_sizes=(50,), learning_rate=adaptive, solver=lbfgs, score=0.44516129032258067, total=   0.4s\n",
      "[CV] alpha=0.0001, hidden_layer_sizes=(50,), learning_rate=adaptive, solver=sgd \n",
      "[CV]  alpha=0.0001, hidden_layer_sizes=(50,), learning_rate=adaptive, solver=sgd, score=0.5128205128205128, total=   0.8s\n",
      "[CV] alpha=0.0001, hidden_layer_sizes=(50,), learning_rate=adaptive, solver=sgd \n",
      "[CV]  alpha=0.0001, hidden_layer_sizes=(50,), learning_rate=adaptive, solver=sgd, score=0.5064102564102564, total=   0.8s\n",
      "[CV] alpha=0.0001, hidden_layer_sizes=(50,), learning_rate=adaptive, solver=sgd \n",
      "[CV]  alpha=0.0001, hidden_layer_sizes=(50,), learning_rate=adaptive, solver=sgd, score=0.5448717948717948, total=   0.8s\n",
      "[CV] alpha=0.0001, hidden_layer_sizes=(50,), learning_rate=adaptive, solver=sgd \n",
      "[CV]  alpha=0.0001, hidden_layer_sizes=(50,), learning_rate=adaptive, solver=sgd, score=0.6217948717948718, total=   0.8s\n",
      "[CV] alpha=0.0001, hidden_layer_sizes=(50,), learning_rate=adaptive, solver=sgd \n",
      "[CV]  alpha=0.0001, hidden_layer_sizes=(50,), learning_rate=adaptive, solver=sgd, score=0.5161290322580645, total=   0.8s\n",
      "[CV] alpha=0.0001, hidden_layer_sizes=(50,), learning_rate=adaptive, solver=adam \n",
      "[CV]  alpha=0.0001, hidden_layer_sizes=(50,), learning_rate=adaptive, solver=adam, score=0.5897435897435898, total=   0.5s\n",
      "[CV] alpha=0.0001, hidden_layer_sizes=(50,), learning_rate=adaptive, solver=adam \n",
      "[CV]  alpha=0.0001, hidden_layer_sizes=(50,), learning_rate=adaptive, solver=adam, score=0.5833333333333334, total=   0.6s\n",
      "[CV] alpha=0.0001, hidden_layer_sizes=(50,), learning_rate=adaptive, solver=adam \n",
      "[CV]  alpha=0.0001, hidden_layer_sizes=(50,), learning_rate=adaptive, solver=adam, score=0.5897435897435898, total=   0.5s\n",
      "[CV] alpha=0.0001, hidden_layer_sizes=(50,), learning_rate=adaptive, solver=adam \n",
      "[CV]  alpha=0.0001, hidden_layer_sizes=(50,), learning_rate=adaptive, solver=adam, score=0.5641025641025641, total=   0.6s\n",
      "[CV] alpha=0.0001, hidden_layer_sizes=(50,), learning_rate=adaptive, solver=adam \n",
      "[CV]  alpha=0.0001, hidden_layer_sizes=(50,), learning_rate=adaptive, solver=adam, score=0.5483870967741935, total=   0.6s\n",
      "[CV] alpha=0.0001, hidden_layer_sizes=(100,), learning_rate=constant, solver=lbfgs \n",
      "[CV]  alpha=0.0001, hidden_layer_sizes=(100,), learning_rate=constant, solver=lbfgs, score=0.48717948717948717, total=   0.8s\n",
      "[CV] alpha=0.0001, hidden_layer_sizes=(100,), learning_rate=constant, solver=lbfgs \n",
      "[CV]  alpha=0.0001, hidden_layer_sizes=(100,), learning_rate=constant, solver=lbfgs, score=0.5128205128205128, total=   1.0s\n",
      "[CV] alpha=0.0001, hidden_layer_sizes=(100,), learning_rate=constant, solver=lbfgs \n",
      "[CV]  alpha=0.0001, hidden_layer_sizes=(100,), learning_rate=constant, solver=lbfgs, score=0.5448717948717948, total=   0.8s\n",
      "[CV] alpha=0.0001, hidden_layer_sizes=(100,), learning_rate=constant, solver=lbfgs \n",
      "[CV]  alpha=0.0001, hidden_layer_sizes=(100,), learning_rate=constant, solver=lbfgs, score=0.4935897435897436, total=   0.8s\n",
      "[CV] alpha=0.0001, hidden_layer_sizes=(100,), learning_rate=constant, solver=lbfgs \n",
      "[CV]  alpha=0.0001, hidden_layer_sizes=(100,), learning_rate=constant, solver=lbfgs, score=0.4838709677419355, total=   0.9s\n",
      "[CV] alpha=0.0001, hidden_layer_sizes=(100,), learning_rate=constant, solver=sgd \n",
      "[CV]  alpha=0.0001, hidden_layer_sizes=(100,), learning_rate=constant, solver=sgd, score=0.5256410256410257, total=   1.2s\n",
      "[CV] alpha=0.0001, hidden_layer_sizes=(100,), learning_rate=constant, solver=sgd \n",
      "[CV]  alpha=0.0001, hidden_layer_sizes=(100,), learning_rate=constant, solver=sgd, score=0.5384615384615384, total=   1.2s\n",
      "[CV] alpha=0.0001, hidden_layer_sizes=(100,), learning_rate=constant, solver=sgd \n",
      "[CV]  alpha=0.0001, hidden_layer_sizes=(100,), learning_rate=constant, solver=sgd, score=0.5384615384615384, total=   1.2s\n",
      "[CV] alpha=0.0001, hidden_layer_sizes=(100,), learning_rate=constant, solver=sgd \n",
      "[CV]  alpha=0.0001, hidden_layer_sizes=(100,), learning_rate=constant, solver=sgd, score=0.6153846153846154, total=   1.2s\n",
      "[CV] alpha=0.0001, hidden_layer_sizes=(100,), learning_rate=constant, solver=sgd \n",
      "[CV]  alpha=0.0001, hidden_layer_sizes=(100,), learning_rate=constant, solver=sgd, score=0.4967741935483871, total=   1.2s\n",
      "[CV] alpha=0.0001, hidden_layer_sizes=(100,), learning_rate=constant, solver=adam \n",
      "[CV]  alpha=0.0001, hidden_layer_sizes=(100,), learning_rate=constant, solver=adam, score=0.5769230769230769, total=   0.6s\n",
      "[CV] alpha=0.0001, hidden_layer_sizes=(100,), learning_rate=constant, solver=adam \n",
      "[CV]  alpha=0.0001, hidden_layer_sizes=(100,), learning_rate=constant, solver=adam, score=0.5641025641025641, total=   0.5s\n",
      "[CV] alpha=0.0001, hidden_layer_sizes=(100,), learning_rate=constant, solver=adam \n",
      "[CV]  alpha=0.0001, hidden_layer_sizes=(100,), learning_rate=constant, solver=adam, score=0.5705128205128205, total=   0.6s\n",
      "[CV] alpha=0.0001, hidden_layer_sizes=(100,), learning_rate=constant, solver=adam \n",
      "[CV]  alpha=0.0001, hidden_layer_sizes=(100,), learning_rate=constant, solver=adam, score=0.5897435897435898, total=   0.5s\n",
      "[CV] alpha=0.0001, hidden_layer_sizes=(100,), learning_rate=constant, solver=adam \n"
     ]
    },
    {
     "name": "stdout",
     "output_type": "stream",
     "text": [
      "[CV]  alpha=0.0001, hidden_layer_sizes=(100,), learning_rate=constant, solver=adam, score=0.5483870967741935, total=   0.6s\n",
      "[CV] alpha=0.0001, hidden_layer_sizes=(100,), learning_rate=invscaling, solver=lbfgs \n",
      "[CV]  alpha=0.0001, hidden_layer_sizes=(100,), learning_rate=invscaling, solver=lbfgs, score=0.48717948717948717, total=   0.8s\n",
      "[CV] alpha=0.0001, hidden_layer_sizes=(100,), learning_rate=invscaling, solver=lbfgs \n",
      "[CV]  alpha=0.0001, hidden_layer_sizes=(100,), learning_rate=invscaling, solver=lbfgs, score=0.5128205128205128, total=   1.0s\n",
      "[CV] alpha=0.0001, hidden_layer_sizes=(100,), learning_rate=invscaling, solver=lbfgs \n",
      "[CV]  alpha=0.0001, hidden_layer_sizes=(100,), learning_rate=invscaling, solver=lbfgs, score=0.5448717948717948, total=   0.8s\n",
      "[CV] alpha=0.0001, hidden_layer_sizes=(100,), learning_rate=invscaling, solver=lbfgs \n",
      "[CV]  alpha=0.0001, hidden_layer_sizes=(100,), learning_rate=invscaling, solver=lbfgs, score=0.4935897435897436, total=   0.8s\n",
      "[CV] alpha=0.0001, hidden_layer_sizes=(100,), learning_rate=invscaling, solver=lbfgs \n",
      "[CV]  alpha=0.0001, hidden_layer_sizes=(100,), learning_rate=invscaling, solver=lbfgs, score=0.4838709677419355, total=   0.9s\n",
      "[CV] alpha=0.0001, hidden_layer_sizes=(100,), learning_rate=invscaling, solver=sgd \n",
      "[CV]  alpha=0.0001, hidden_layer_sizes=(100,), learning_rate=invscaling, solver=sgd, score=0.4551282051282051, total=   1.2s\n",
      "[CV] alpha=0.0001, hidden_layer_sizes=(100,), learning_rate=invscaling, solver=sgd \n",
      "[CV]  alpha=0.0001, hidden_layer_sizes=(100,), learning_rate=invscaling, solver=sgd, score=0.42948717948717946, total=   1.2s\n",
      "[CV] alpha=0.0001, hidden_layer_sizes=(100,), learning_rate=invscaling, solver=sgd \n",
      "[CV]  alpha=0.0001, hidden_layer_sizes=(100,), learning_rate=invscaling, solver=sgd, score=0.4423076923076923, total=   1.2s\n",
      "[CV] alpha=0.0001, hidden_layer_sizes=(100,), learning_rate=invscaling, solver=sgd \n",
      "[CV]  alpha=0.0001, hidden_layer_sizes=(100,), learning_rate=invscaling, solver=sgd, score=0.5256410256410257, total=   1.2s\n",
      "[CV] alpha=0.0001, hidden_layer_sizes=(100,), learning_rate=invscaling, solver=sgd \n",
      "[CV]  alpha=0.0001, hidden_layer_sizes=(100,), learning_rate=invscaling, solver=sgd, score=0.432258064516129, total=   1.2s\n",
      "[CV] alpha=0.0001, hidden_layer_sizes=(100,), learning_rate=invscaling, solver=adam \n",
      "[CV]  alpha=0.0001, hidden_layer_sizes=(100,), learning_rate=invscaling, solver=adam, score=0.5769230769230769, total=   0.6s\n",
      "[CV] alpha=0.0001, hidden_layer_sizes=(100,), learning_rate=invscaling, solver=adam \n",
      "[CV]  alpha=0.0001, hidden_layer_sizes=(100,), learning_rate=invscaling, solver=adam, score=0.5641025641025641, total=   0.5s\n",
      "[CV] alpha=0.0001, hidden_layer_sizes=(100,), learning_rate=invscaling, solver=adam \n",
      "[CV]  alpha=0.0001, hidden_layer_sizes=(100,), learning_rate=invscaling, solver=adam, score=0.5705128205128205, total=   0.6s\n",
      "[CV] alpha=0.0001, hidden_layer_sizes=(100,), learning_rate=invscaling, solver=adam \n",
      "[CV]  alpha=0.0001, hidden_layer_sizes=(100,), learning_rate=invscaling, solver=adam, score=0.5897435897435898, total=   0.5s\n",
      "[CV] alpha=0.0001, hidden_layer_sizes=(100,), learning_rate=invscaling, solver=adam \n",
      "[CV]  alpha=0.0001, hidden_layer_sizes=(100,), learning_rate=invscaling, solver=adam, score=0.5483870967741935, total=   0.6s\n",
      "[CV] alpha=0.0001, hidden_layer_sizes=(100,), learning_rate=adaptive, solver=lbfgs \n",
      "[CV]  alpha=0.0001, hidden_layer_sizes=(100,), learning_rate=adaptive, solver=lbfgs, score=0.48717948717948717, total=   0.8s\n",
      "[CV] alpha=0.0001, hidden_layer_sizes=(100,), learning_rate=adaptive, solver=lbfgs \n",
      "[CV]  alpha=0.0001, hidden_layer_sizes=(100,), learning_rate=adaptive, solver=lbfgs, score=0.5128205128205128, total=   0.9s\n",
      "[CV] alpha=0.0001, hidden_layer_sizes=(100,), learning_rate=adaptive, solver=lbfgs \n",
      "[CV]  alpha=0.0001, hidden_layer_sizes=(100,), learning_rate=adaptive, solver=lbfgs, score=0.5448717948717948, total=   0.8s\n",
      "[CV] alpha=0.0001, hidden_layer_sizes=(100,), learning_rate=adaptive, solver=lbfgs \n",
      "[CV]  alpha=0.0001, hidden_layer_sizes=(100,), learning_rate=adaptive, solver=lbfgs, score=0.4935897435897436, total=   0.8s\n",
      "[CV] alpha=0.0001, hidden_layer_sizes=(100,), learning_rate=adaptive, solver=lbfgs \n",
      "[CV]  alpha=0.0001, hidden_layer_sizes=(100,), learning_rate=adaptive, solver=lbfgs, score=0.4838709677419355, total=   0.9s\n",
      "[CV] alpha=0.0001, hidden_layer_sizes=(100,), learning_rate=adaptive, solver=sgd \n",
      "[CV]  alpha=0.0001, hidden_layer_sizes=(100,), learning_rate=adaptive, solver=sgd, score=0.5256410256410257, total=   1.2s\n",
      "[CV] alpha=0.0001, hidden_layer_sizes=(100,), learning_rate=adaptive, solver=sgd \n",
      "[CV]  alpha=0.0001, hidden_layer_sizes=(100,), learning_rate=adaptive, solver=sgd, score=0.5384615384615384, total=   1.2s\n",
      "[CV] alpha=0.0001, hidden_layer_sizes=(100,), learning_rate=adaptive, solver=sgd \n",
      "[CV]  alpha=0.0001, hidden_layer_sizes=(100,), learning_rate=adaptive, solver=sgd, score=0.5384615384615384, total=   1.2s\n",
      "[CV] alpha=0.0001, hidden_layer_sizes=(100,), learning_rate=adaptive, solver=sgd \n",
      "[CV]  alpha=0.0001, hidden_layer_sizes=(100,), learning_rate=adaptive, solver=sgd, score=0.6153846153846154, total=   1.2s\n",
      "[CV] alpha=0.0001, hidden_layer_sizes=(100,), learning_rate=adaptive, solver=sgd \n",
      "[CV]  alpha=0.0001, hidden_layer_sizes=(100,), learning_rate=adaptive, solver=sgd, score=0.4967741935483871, total=   1.2s\n",
      "[CV] alpha=0.0001, hidden_layer_sizes=(100,), learning_rate=adaptive, solver=adam \n",
      "[CV]  alpha=0.0001, hidden_layer_sizes=(100,), learning_rate=adaptive, solver=adam, score=0.5769230769230769, total=   0.6s\n",
      "[CV] alpha=0.0001, hidden_layer_sizes=(100,), learning_rate=adaptive, solver=adam \n",
      "[CV]  alpha=0.0001, hidden_layer_sizes=(100,), learning_rate=adaptive, solver=adam, score=0.5641025641025641, total=   0.5s\n",
      "[CV] alpha=0.0001, hidden_layer_sizes=(100,), learning_rate=adaptive, solver=adam \n",
      "[CV]  alpha=0.0001, hidden_layer_sizes=(100,), learning_rate=adaptive, solver=adam, score=0.5705128205128205, total=   0.6s\n",
      "[CV] alpha=0.0001, hidden_layer_sizes=(100,), learning_rate=adaptive, solver=adam \n",
      "[CV]  alpha=0.0001, hidden_layer_sizes=(100,), learning_rate=adaptive, solver=adam, score=0.5897435897435898, total=   0.5s\n",
      "[CV] alpha=0.0001, hidden_layer_sizes=(100,), learning_rate=adaptive, solver=adam \n",
      "[CV]  alpha=0.0001, hidden_layer_sizes=(100,), learning_rate=adaptive, solver=adam, score=0.5483870967741935, total=   0.6s\n",
      "[CV] alpha=0.0001, hidden_layer_sizes=(50, 50), learning_rate=constant, solver=lbfgs \n",
      "[CV]  alpha=0.0001, hidden_layer_sizes=(50, 50), learning_rate=constant, solver=lbfgs, score=0.46153846153846156, total=   1.5s\n",
      "[CV] alpha=0.0001, hidden_layer_sizes=(50, 50), learning_rate=constant, solver=lbfgs \n",
      "[CV]  alpha=0.0001, hidden_layer_sizes=(50, 50), learning_rate=constant, solver=lbfgs, score=0.5448717948717948, total=   1.6s\n",
      "[CV] alpha=0.0001, hidden_layer_sizes=(50, 50), learning_rate=constant, solver=lbfgs \n",
      "[CV]  alpha=0.0001, hidden_layer_sizes=(50, 50), learning_rate=constant, solver=lbfgs, score=0.532051282051282, total=   1.5s\n",
      "[CV] alpha=0.0001, hidden_layer_sizes=(50, 50), learning_rate=constant, solver=lbfgs \n",
      "[CV]  alpha=0.0001, hidden_layer_sizes=(50, 50), learning_rate=constant, solver=lbfgs, score=0.4935897435897436, total=   1.4s\n",
      "[CV] alpha=0.0001, hidden_layer_sizes=(50, 50), learning_rate=constant, solver=lbfgs \n",
      "[CV]  alpha=0.0001, hidden_layer_sizes=(50, 50), learning_rate=constant, solver=lbfgs, score=0.5225806451612903, total=   1.4s\n",
      "[CV] alpha=0.0001, hidden_layer_sizes=(50, 50), learning_rate=constant, solver=sgd \n",
      "[CV]  alpha=0.0001, hidden_layer_sizes=(50, 50), learning_rate=constant, solver=sgd, score=0.4358974358974359, total=   0.5s\n",
      "[CV] alpha=0.0001, hidden_layer_sizes=(50, 50), learning_rate=constant, solver=sgd \n",
      "[CV]  alpha=0.0001, hidden_layer_sizes=(50, 50), learning_rate=constant, solver=sgd, score=0.42948717948717946, total=   0.6s\n",
      "[CV] alpha=0.0001, hidden_layer_sizes=(50, 50), learning_rate=constant, solver=sgd \n",
      "[CV]  alpha=0.0001, hidden_layer_sizes=(50, 50), learning_rate=constant, solver=sgd, score=0.4358974358974359, total=   0.7s\n",
      "[CV] alpha=0.0001, hidden_layer_sizes=(50, 50), learning_rate=constant, solver=sgd \n",
      "[CV]  alpha=0.0001, hidden_layer_sizes=(50, 50), learning_rate=constant, solver=sgd, score=0.5, total=   0.6s\n",
      "[CV] alpha=0.0001, hidden_layer_sizes=(50, 50), learning_rate=constant, solver=sgd \n"
     ]
    },
    {
     "name": "stdout",
     "output_type": "stream",
     "text": [
      "[CV]  alpha=0.0001, hidden_layer_sizes=(50, 50), learning_rate=constant, solver=sgd, score=0.43870967741935485, total=   0.7s\n",
      "[CV] alpha=0.0001, hidden_layer_sizes=(50, 50), learning_rate=constant, solver=adam \n",
      "[CV]  alpha=0.0001, hidden_layer_sizes=(50, 50), learning_rate=constant, solver=adam, score=0.5705128205128205, total=   0.9s\n",
      "[CV] alpha=0.0001, hidden_layer_sizes=(50, 50), learning_rate=constant, solver=adam \n",
      "[CV]  alpha=0.0001, hidden_layer_sizes=(50, 50), learning_rate=constant, solver=adam, score=0.6089743589743589, total=   1.0s\n",
      "[CV] alpha=0.0001, hidden_layer_sizes=(50, 50), learning_rate=constant, solver=adam \n",
      "[CV]  alpha=0.0001, hidden_layer_sizes=(50, 50), learning_rate=constant, solver=adam, score=0.5769230769230769, total=   1.3s\n",
      "[CV] alpha=0.0001, hidden_layer_sizes=(50, 50), learning_rate=constant, solver=adam \n",
      "[CV]  alpha=0.0001, hidden_layer_sizes=(50, 50), learning_rate=constant, solver=adam, score=0.5769230769230769, total=   1.1s\n",
      "[CV] alpha=0.0001, hidden_layer_sizes=(50, 50), learning_rate=constant, solver=adam \n",
      "[CV]  alpha=0.0001, hidden_layer_sizes=(50, 50), learning_rate=constant, solver=adam, score=0.5548387096774193, total=   1.4s\n",
      "[CV] alpha=0.0001, hidden_layer_sizes=(50, 50), learning_rate=invscaling, solver=lbfgs \n",
      "[CV]  alpha=0.0001, hidden_layer_sizes=(50, 50), learning_rate=invscaling, solver=lbfgs, score=0.46153846153846156, total=   1.5s\n",
      "[CV] alpha=0.0001, hidden_layer_sizes=(50, 50), learning_rate=invscaling, solver=lbfgs \n",
      "[CV]  alpha=0.0001, hidden_layer_sizes=(50, 50), learning_rate=invscaling, solver=lbfgs, score=0.5448717948717948, total=   1.6s\n",
      "[CV] alpha=0.0001, hidden_layer_sizes=(50, 50), learning_rate=invscaling, solver=lbfgs \n",
      "[CV]  alpha=0.0001, hidden_layer_sizes=(50, 50), learning_rate=invscaling, solver=lbfgs, score=0.532051282051282, total=   1.5s\n",
      "[CV] alpha=0.0001, hidden_layer_sizes=(50, 50), learning_rate=invscaling, solver=lbfgs \n",
      "[CV]  alpha=0.0001, hidden_layer_sizes=(50, 50), learning_rate=invscaling, solver=lbfgs, score=0.4935897435897436, total=   1.4s\n",
      "[CV] alpha=0.0001, hidden_layer_sizes=(50, 50), learning_rate=invscaling, solver=lbfgs \n",
      "[CV]  alpha=0.0001, hidden_layer_sizes=(50, 50), learning_rate=invscaling, solver=lbfgs, score=0.5225806451612903, total=   1.4s\n",
      "[CV] alpha=0.0001, hidden_layer_sizes=(50, 50), learning_rate=invscaling, solver=sgd \n",
      "[CV]  alpha=0.0001, hidden_layer_sizes=(50, 50), learning_rate=invscaling, solver=sgd, score=0.4358974358974359, total=   2.1s\n",
      "[CV] alpha=0.0001, hidden_layer_sizes=(50, 50), learning_rate=invscaling, solver=sgd \n",
      "[CV]  alpha=0.0001, hidden_layer_sizes=(50, 50), learning_rate=invscaling, solver=sgd, score=0.42948717948717946, total=   2.1s\n",
      "[CV] alpha=0.0001, hidden_layer_sizes=(50, 50), learning_rate=invscaling, solver=sgd \n",
      "[CV]  alpha=0.0001, hidden_layer_sizes=(50, 50), learning_rate=invscaling, solver=sgd, score=0.4358974358974359, total=   2.1s\n",
      "[CV] alpha=0.0001, hidden_layer_sizes=(50, 50), learning_rate=invscaling, solver=sgd \n",
      "[CV]  alpha=0.0001, hidden_layer_sizes=(50, 50), learning_rate=invscaling, solver=sgd, score=0.5, total=   2.1s\n",
      "[CV] alpha=0.0001, hidden_layer_sizes=(50, 50), learning_rate=invscaling, solver=sgd \n",
      "[CV]  alpha=0.0001, hidden_layer_sizes=(50, 50), learning_rate=invscaling, solver=sgd, score=0.43870967741935485, total=   2.1s\n",
      "[CV] alpha=0.0001, hidden_layer_sizes=(50, 50), learning_rate=invscaling, solver=adam \n",
      "[CV]  alpha=0.0001, hidden_layer_sizes=(50, 50), learning_rate=invscaling, solver=adam, score=0.5705128205128205, total=   0.9s\n",
      "[CV] alpha=0.0001, hidden_layer_sizes=(50, 50), learning_rate=invscaling, solver=adam \n",
      "[CV]  alpha=0.0001, hidden_layer_sizes=(50, 50), learning_rate=invscaling, solver=adam, score=0.6089743589743589, total=   1.0s\n",
      "[CV] alpha=0.0001, hidden_layer_sizes=(50, 50), learning_rate=invscaling, solver=adam \n",
      "[CV]  alpha=0.0001, hidden_layer_sizes=(50, 50), learning_rate=invscaling, solver=adam, score=0.5769230769230769, total=   1.3s\n",
      "[CV] alpha=0.0001, hidden_layer_sizes=(50, 50), learning_rate=invscaling, solver=adam \n",
      "[CV]  alpha=0.0001, hidden_layer_sizes=(50, 50), learning_rate=invscaling, solver=adam, score=0.5769230769230769, total=   1.0s\n",
      "[CV] alpha=0.0001, hidden_layer_sizes=(50, 50), learning_rate=invscaling, solver=adam \n",
      "[CV]  alpha=0.0001, hidden_layer_sizes=(50, 50), learning_rate=invscaling, solver=adam, score=0.5548387096774193, total=   1.4s\n",
      "[CV] alpha=0.0001, hidden_layer_sizes=(50, 50), learning_rate=adaptive, solver=lbfgs \n",
      "[CV]  alpha=0.0001, hidden_layer_sizes=(50, 50), learning_rate=adaptive, solver=lbfgs, score=0.46153846153846156, total=   1.5s\n",
      "[CV] alpha=0.0001, hidden_layer_sizes=(50, 50), learning_rate=adaptive, solver=lbfgs \n",
      "[CV]  alpha=0.0001, hidden_layer_sizes=(50, 50), learning_rate=adaptive, solver=lbfgs, score=0.5448717948717948, total=   1.6s\n",
      "[CV] alpha=0.0001, hidden_layer_sizes=(50, 50), learning_rate=adaptive, solver=lbfgs \n",
      "[CV]  alpha=0.0001, hidden_layer_sizes=(50, 50), learning_rate=adaptive, solver=lbfgs, score=0.532051282051282, total=   1.5s\n",
      "[CV] alpha=0.0001, hidden_layer_sizes=(50, 50), learning_rate=adaptive, solver=lbfgs \n",
      "[CV]  alpha=0.0001, hidden_layer_sizes=(50, 50), learning_rate=adaptive, solver=lbfgs, score=0.4935897435897436, total=   1.4s\n",
      "[CV] alpha=0.0001, hidden_layer_sizes=(50, 50), learning_rate=adaptive, solver=lbfgs \n",
      "[CV]  alpha=0.0001, hidden_layer_sizes=(50, 50), learning_rate=adaptive, solver=lbfgs, score=0.5225806451612903, total=   1.4s\n",
      "[CV] alpha=0.0001, hidden_layer_sizes=(50, 50), learning_rate=adaptive, solver=sgd \n",
      "[CV]  alpha=0.0001, hidden_layer_sizes=(50, 50), learning_rate=adaptive, solver=sgd, score=0.4358974358974359, total=   0.7s\n",
      "[CV] alpha=0.0001, hidden_layer_sizes=(50, 50), learning_rate=adaptive, solver=sgd \n",
      "[CV]  alpha=0.0001, hidden_layer_sizes=(50, 50), learning_rate=adaptive, solver=sgd, score=0.42948717948717946, total=   0.8s\n",
      "[CV] alpha=0.0001, hidden_layer_sizes=(50, 50), learning_rate=adaptive, solver=sgd \n",
      "[CV]  alpha=0.0001, hidden_layer_sizes=(50, 50), learning_rate=adaptive, solver=sgd, score=0.4358974358974359, total=   0.8s\n",
      "[CV] alpha=0.0001, hidden_layer_sizes=(50, 50), learning_rate=adaptive, solver=sgd \n",
      "[CV]  alpha=0.0001, hidden_layer_sizes=(50, 50), learning_rate=adaptive, solver=sgd, score=0.5, total=   0.8s\n",
      "[CV] alpha=0.0001, hidden_layer_sizes=(50, 50), learning_rate=adaptive, solver=sgd \n",
      "[CV]  alpha=0.0001, hidden_layer_sizes=(50, 50), learning_rate=adaptive, solver=sgd, score=0.43870967741935485, total=   0.9s\n",
      "[CV] alpha=0.0001, hidden_layer_sizes=(50, 50), learning_rate=adaptive, solver=adam \n",
      "[CV]  alpha=0.0001, hidden_layer_sizes=(50, 50), learning_rate=adaptive, solver=adam, score=0.5705128205128205, total=   0.9s\n",
      "[CV] alpha=0.0001, hidden_layer_sizes=(50, 50), learning_rate=adaptive, solver=adam \n",
      "[CV]  alpha=0.0001, hidden_layer_sizes=(50, 50), learning_rate=adaptive, solver=adam, score=0.6089743589743589, total=   1.0s\n",
      "[CV] alpha=0.0001, hidden_layer_sizes=(50, 50), learning_rate=adaptive, solver=adam \n",
      "[CV]  alpha=0.0001, hidden_layer_sizes=(50, 50), learning_rate=adaptive, solver=adam, score=0.5769230769230769, total=   1.3s\n",
      "[CV] alpha=0.0001, hidden_layer_sizes=(50, 50), learning_rate=adaptive, solver=adam \n",
      "[CV]  alpha=0.0001, hidden_layer_sizes=(50, 50), learning_rate=adaptive, solver=adam, score=0.5769230769230769, total=   1.0s\n",
      "[CV] alpha=0.0001, hidden_layer_sizes=(50, 50), learning_rate=adaptive, solver=adam \n",
      "[CV]  alpha=0.0001, hidden_layer_sizes=(50, 50), learning_rate=adaptive, solver=adam, score=0.5548387096774193, total=   1.4s\n",
      "[CV] alpha=0.0001, hidden_layer_sizes=(100, 100), learning_rate=constant, solver=lbfgs \n",
      "[CV]  alpha=0.0001, hidden_layer_sizes=(100, 100), learning_rate=constant, solver=lbfgs, score=0.5, total=   4.7s\n",
      "[CV] alpha=0.0001, hidden_layer_sizes=(100, 100), learning_rate=constant, solver=lbfgs \n",
      "[CV]  alpha=0.0001, hidden_layer_sizes=(100, 100), learning_rate=constant, solver=lbfgs, score=0.5641025641025641, total=   5.3s\n",
      "[CV] alpha=0.0001, hidden_layer_sizes=(100, 100), learning_rate=constant, solver=lbfgs \n",
      "[CV]  alpha=0.0001, hidden_layer_sizes=(100, 100), learning_rate=constant, solver=lbfgs, score=0.532051282051282, total=   5.4s\n",
      "[CV] alpha=0.0001, hidden_layer_sizes=(100, 100), learning_rate=constant, solver=lbfgs \n"
     ]
    },
    {
     "name": "stdout",
     "output_type": "stream",
     "text": [
      "[CV]  alpha=0.0001, hidden_layer_sizes=(100, 100), learning_rate=constant, solver=lbfgs, score=0.47435897435897434, total=   5.1s\n",
      "[CV] alpha=0.0001, hidden_layer_sizes=(100, 100), learning_rate=constant, solver=lbfgs \n",
      "[CV]  alpha=0.0001, hidden_layer_sizes=(100, 100), learning_rate=constant, solver=lbfgs, score=0.43870967741935485, total=   4.9s\n",
      "[CV] alpha=0.0001, hidden_layer_sizes=(100, 100), learning_rate=constant, solver=sgd \n",
      "[CV]  alpha=0.0001, hidden_layer_sizes=(100, 100), learning_rate=constant, solver=sgd, score=0.4358974358974359, total=   0.8s\n",
      "[CV] alpha=0.0001, hidden_layer_sizes=(100, 100), learning_rate=constant, solver=sgd \n",
      "[CV]  alpha=0.0001, hidden_layer_sizes=(100, 100), learning_rate=constant, solver=sgd, score=0.42948717948717946, total=   1.1s\n",
      "[CV] alpha=0.0001, hidden_layer_sizes=(100, 100), learning_rate=constant, solver=sgd \n",
      "[CV]  alpha=0.0001, hidden_layer_sizes=(100, 100), learning_rate=constant, solver=sgd, score=0.4358974358974359, total=   1.0s\n",
      "[CV] alpha=0.0001, hidden_layer_sizes=(100, 100), learning_rate=constant, solver=sgd \n",
      "[CV]  alpha=0.0001, hidden_layer_sizes=(100, 100), learning_rate=constant, solver=sgd, score=0.5, total=   0.9s\n",
      "[CV] alpha=0.0001, hidden_layer_sizes=(100, 100), learning_rate=constant, solver=sgd \n",
      "[CV]  alpha=0.0001, hidden_layer_sizes=(100, 100), learning_rate=constant, solver=sgd, score=0.43870967741935485, total=   1.0s\n",
      "[CV] alpha=0.0001, hidden_layer_sizes=(100, 100), learning_rate=constant, solver=adam \n",
      "[CV]  alpha=0.0001, hidden_layer_sizes=(100, 100), learning_rate=constant, solver=adam, score=0.6089743589743589, total=   2.1s\n",
      "[CV] alpha=0.0001, hidden_layer_sizes=(100, 100), learning_rate=constant, solver=adam \n",
      "[CV]  alpha=0.0001, hidden_layer_sizes=(100, 100), learning_rate=constant, solver=adam, score=0.6025641025641025, total=   2.2s\n",
      "[CV] alpha=0.0001, hidden_layer_sizes=(100, 100), learning_rate=constant, solver=adam \n",
      "[CV]  alpha=0.0001, hidden_layer_sizes=(100, 100), learning_rate=constant, solver=adam, score=0.5576923076923077, total=   2.0s\n",
      "[CV] alpha=0.0001, hidden_layer_sizes=(100, 100), learning_rate=constant, solver=adam \n",
      "[CV]  alpha=0.0001, hidden_layer_sizes=(100, 100), learning_rate=constant, solver=adam, score=0.5705128205128205, total=   2.4s\n",
      "[CV] alpha=0.0001, hidden_layer_sizes=(100, 100), learning_rate=constant, solver=adam \n",
      "[CV]  alpha=0.0001, hidden_layer_sizes=(100, 100), learning_rate=constant, solver=adam, score=0.5548387096774193, total=   1.7s\n",
      "[CV] alpha=0.0001, hidden_layer_sizes=(100, 100), learning_rate=invscaling, solver=lbfgs \n",
      "[CV]  alpha=0.0001, hidden_layer_sizes=(100, 100), learning_rate=invscaling, solver=lbfgs, score=0.5, total=   4.9s\n",
      "[CV] alpha=0.0001, hidden_layer_sizes=(100, 100), learning_rate=invscaling, solver=lbfgs \n",
      "[CV]  alpha=0.0001, hidden_layer_sizes=(100, 100), learning_rate=invscaling, solver=lbfgs, score=0.5641025641025641, total=   5.5s\n",
      "[CV] alpha=0.0001, hidden_layer_sizes=(100, 100), learning_rate=invscaling, solver=lbfgs \n"
     ]
    },
    {
     "ename": "KeyboardInterrupt",
     "evalue": "",
     "output_type": "error",
     "traceback": [
      "\u001b[0;31m---------------------------------------------------------------------------\u001b[0m",
      "\u001b[0;31mKeyboardInterrupt\u001b[0m                         Traceback (most recent call last)",
      "\u001b[0;32m<ipython-input-9-621326a96728>\u001b[0m in \u001b[0;36m<module>\u001b[0;34m()\u001b[0m\n\u001b[1;32m     12\u001b[0m                           verbose=20)\n\u001b[1;32m     13\u001b[0m \u001b[0;34m\u001b[0m\u001b[0m\n\u001b[0;32m---> 14\u001b[0;31m \u001b[0mbest_model\u001b[0m\u001b[0;34m.\u001b[0m\u001b[0mfit\u001b[0m\u001b[0;34m(\u001b[0m\u001b[0mX_Scaled\u001b[0m\u001b[0;34m,\u001b[0m \u001b[0my\u001b[0m\u001b[0;34m)\u001b[0m\u001b[0;34m\u001b[0m\u001b[0;34m\u001b[0m\u001b[0m\n\u001b[0m",
      "\u001b[0;32m/usr/lib/python3.7/site-packages/sklearn/model_selection/_search.py\u001b[0m in \u001b[0;36mfit\u001b[0;34m(self, X, y, groups, **fit_params)\u001b[0m\n\u001b[1;32m    638\u001b[0m                                   error_score=self.error_score)\n\u001b[1;32m    639\u001b[0m           for parameters, (train, test) in product(candidate_params,\n\u001b[0;32m--> 640\u001b[0;31m                                                    cv.split(X, y, groups)))\n\u001b[0m\u001b[1;32m    641\u001b[0m \u001b[0;34m\u001b[0m\u001b[0m\n\u001b[1;32m    642\u001b[0m         \u001b[0;31m# if one choose to see train score, \"out\" will contain train score info\u001b[0m\u001b[0;34m\u001b[0m\u001b[0;34m\u001b[0m\u001b[0;34m\u001b[0m\u001b[0m\n",
      "\u001b[0;32m/usr/lib/python3.7/site-packages/sklearn/externals/joblib/parallel.py\u001b[0m in \u001b[0;36m__call__\u001b[0;34m(self, iterable)\u001b[0m\n\u001b[1;32m    777\u001b[0m             \u001b[0;31m# was dispatched. In particular this covers the edge\u001b[0m\u001b[0;34m\u001b[0m\u001b[0;34m\u001b[0m\u001b[0;34m\u001b[0m\u001b[0m\n\u001b[1;32m    778\u001b[0m             \u001b[0;31m# case of Parallel used with an exhausted iterator.\u001b[0m\u001b[0;34m\u001b[0m\u001b[0;34m\u001b[0m\u001b[0;34m\u001b[0m\u001b[0m\n\u001b[0;32m--> 779\u001b[0;31m             \u001b[0;32mwhile\u001b[0m \u001b[0mself\u001b[0m\u001b[0;34m.\u001b[0m\u001b[0mdispatch_one_batch\u001b[0m\u001b[0;34m(\u001b[0m\u001b[0miterator\u001b[0m\u001b[0;34m)\u001b[0m\u001b[0;34m:\u001b[0m\u001b[0;34m\u001b[0m\u001b[0;34m\u001b[0m\u001b[0m\n\u001b[0m\u001b[1;32m    780\u001b[0m                 \u001b[0mself\u001b[0m\u001b[0;34m.\u001b[0m\u001b[0m_iterating\u001b[0m \u001b[0;34m=\u001b[0m \u001b[0;32mTrue\u001b[0m\u001b[0;34m\u001b[0m\u001b[0;34m\u001b[0m\u001b[0m\n\u001b[1;32m    781\u001b[0m             \u001b[0;32melse\u001b[0m\u001b[0;34m:\u001b[0m\u001b[0;34m\u001b[0m\u001b[0;34m\u001b[0m\u001b[0m\n",
      "\u001b[0;32m/usr/lib/python3.7/site-packages/sklearn/externals/joblib/parallel.py\u001b[0m in \u001b[0;36mdispatch_one_batch\u001b[0;34m(self, iterator)\u001b[0m\n\u001b[1;32m    623\u001b[0m                 \u001b[0;32mreturn\u001b[0m \u001b[0;32mFalse\u001b[0m\u001b[0;34m\u001b[0m\u001b[0;34m\u001b[0m\u001b[0m\n\u001b[1;32m    624\u001b[0m             \u001b[0;32melse\u001b[0m\u001b[0;34m:\u001b[0m\u001b[0;34m\u001b[0m\u001b[0;34m\u001b[0m\u001b[0m\n\u001b[0;32m--> 625\u001b[0;31m                 \u001b[0mself\u001b[0m\u001b[0;34m.\u001b[0m\u001b[0m_dispatch\u001b[0m\u001b[0;34m(\u001b[0m\u001b[0mtasks\u001b[0m\u001b[0;34m)\u001b[0m\u001b[0;34m\u001b[0m\u001b[0;34m\u001b[0m\u001b[0m\n\u001b[0m\u001b[1;32m    626\u001b[0m                 \u001b[0;32mreturn\u001b[0m \u001b[0;32mTrue\u001b[0m\u001b[0;34m\u001b[0m\u001b[0;34m\u001b[0m\u001b[0m\n\u001b[1;32m    627\u001b[0m \u001b[0;34m\u001b[0m\u001b[0m\n",
      "\u001b[0;32m/usr/lib/python3.7/site-packages/sklearn/externals/joblib/parallel.py\u001b[0m in \u001b[0;36m_dispatch\u001b[0;34m(self, batch)\u001b[0m\n\u001b[1;32m    586\u001b[0m         \u001b[0mdispatch_timestamp\u001b[0m \u001b[0;34m=\u001b[0m \u001b[0mtime\u001b[0m\u001b[0;34m.\u001b[0m\u001b[0mtime\u001b[0m\u001b[0;34m(\u001b[0m\u001b[0;34m)\u001b[0m\u001b[0;34m\u001b[0m\u001b[0;34m\u001b[0m\u001b[0m\n\u001b[1;32m    587\u001b[0m         \u001b[0mcb\u001b[0m \u001b[0;34m=\u001b[0m \u001b[0mBatchCompletionCallBack\u001b[0m\u001b[0;34m(\u001b[0m\u001b[0mdispatch_timestamp\u001b[0m\u001b[0;34m,\u001b[0m \u001b[0mlen\u001b[0m\u001b[0;34m(\u001b[0m\u001b[0mbatch\u001b[0m\u001b[0;34m)\u001b[0m\u001b[0;34m,\u001b[0m \u001b[0mself\u001b[0m\u001b[0;34m)\u001b[0m\u001b[0;34m\u001b[0m\u001b[0;34m\u001b[0m\u001b[0m\n\u001b[0;32m--> 588\u001b[0;31m         \u001b[0mjob\u001b[0m \u001b[0;34m=\u001b[0m \u001b[0mself\u001b[0m\u001b[0;34m.\u001b[0m\u001b[0m_backend\u001b[0m\u001b[0;34m.\u001b[0m\u001b[0mapply_async\u001b[0m\u001b[0;34m(\u001b[0m\u001b[0mbatch\u001b[0m\u001b[0;34m,\u001b[0m \u001b[0mcallback\u001b[0m\u001b[0;34m=\u001b[0m\u001b[0mcb\u001b[0m\u001b[0;34m)\u001b[0m\u001b[0;34m\u001b[0m\u001b[0;34m\u001b[0m\u001b[0m\n\u001b[0m\u001b[1;32m    589\u001b[0m         \u001b[0mself\u001b[0m\u001b[0;34m.\u001b[0m\u001b[0m_jobs\u001b[0m\u001b[0;34m.\u001b[0m\u001b[0mappend\u001b[0m\u001b[0;34m(\u001b[0m\u001b[0mjob\u001b[0m\u001b[0;34m)\u001b[0m\u001b[0;34m\u001b[0m\u001b[0;34m\u001b[0m\u001b[0m\n\u001b[1;32m    590\u001b[0m \u001b[0;34m\u001b[0m\u001b[0m\n",
      "\u001b[0;32m/usr/lib/python3.7/site-packages/sklearn/externals/joblib/_parallel_backends.py\u001b[0m in \u001b[0;36mapply_async\u001b[0;34m(self, func, callback)\u001b[0m\n\u001b[1;32m    109\u001b[0m     \u001b[0;32mdef\u001b[0m \u001b[0mapply_async\u001b[0m\u001b[0;34m(\u001b[0m\u001b[0mself\u001b[0m\u001b[0;34m,\u001b[0m \u001b[0mfunc\u001b[0m\u001b[0;34m,\u001b[0m \u001b[0mcallback\u001b[0m\u001b[0;34m=\u001b[0m\u001b[0;32mNone\u001b[0m\u001b[0;34m)\u001b[0m\u001b[0;34m:\u001b[0m\u001b[0;34m\u001b[0m\u001b[0;34m\u001b[0m\u001b[0m\n\u001b[1;32m    110\u001b[0m         \u001b[0;34m\"\"\"Schedule a func to be run\"\"\"\u001b[0m\u001b[0;34m\u001b[0m\u001b[0;34m\u001b[0m\u001b[0m\n\u001b[0;32m--> 111\u001b[0;31m         \u001b[0mresult\u001b[0m \u001b[0;34m=\u001b[0m \u001b[0mImmediateResult\u001b[0m\u001b[0;34m(\u001b[0m\u001b[0mfunc\u001b[0m\u001b[0;34m)\u001b[0m\u001b[0;34m\u001b[0m\u001b[0;34m\u001b[0m\u001b[0m\n\u001b[0m\u001b[1;32m    112\u001b[0m         \u001b[0;32mif\u001b[0m \u001b[0mcallback\u001b[0m\u001b[0;34m:\u001b[0m\u001b[0;34m\u001b[0m\u001b[0;34m\u001b[0m\u001b[0m\n\u001b[1;32m    113\u001b[0m             \u001b[0mcallback\u001b[0m\u001b[0;34m(\u001b[0m\u001b[0mresult\u001b[0m\u001b[0;34m)\u001b[0m\u001b[0;34m\u001b[0m\u001b[0;34m\u001b[0m\u001b[0m\n",
      "\u001b[0;32m/usr/lib/python3.7/site-packages/sklearn/externals/joblib/_parallel_backends.py\u001b[0m in \u001b[0;36m__init__\u001b[0;34m(self, batch)\u001b[0m\n\u001b[1;32m    330\u001b[0m         \u001b[0;31m# Don't delay the application, to avoid keeping the input\u001b[0m\u001b[0;34m\u001b[0m\u001b[0;34m\u001b[0m\u001b[0;34m\u001b[0m\u001b[0m\n\u001b[1;32m    331\u001b[0m         \u001b[0;31m# arguments in memory\u001b[0m\u001b[0;34m\u001b[0m\u001b[0;34m\u001b[0m\u001b[0;34m\u001b[0m\u001b[0m\n\u001b[0;32m--> 332\u001b[0;31m         \u001b[0mself\u001b[0m\u001b[0;34m.\u001b[0m\u001b[0mresults\u001b[0m \u001b[0;34m=\u001b[0m \u001b[0mbatch\u001b[0m\u001b[0;34m(\u001b[0m\u001b[0;34m)\u001b[0m\u001b[0;34m\u001b[0m\u001b[0;34m\u001b[0m\u001b[0m\n\u001b[0m\u001b[1;32m    333\u001b[0m \u001b[0;34m\u001b[0m\u001b[0m\n\u001b[1;32m    334\u001b[0m     \u001b[0;32mdef\u001b[0m \u001b[0mget\u001b[0m\u001b[0;34m(\u001b[0m\u001b[0mself\u001b[0m\u001b[0;34m)\u001b[0m\u001b[0;34m:\u001b[0m\u001b[0;34m\u001b[0m\u001b[0;34m\u001b[0m\u001b[0m\n",
      "\u001b[0;32m/usr/lib/python3.7/site-packages/sklearn/externals/joblib/parallel.py\u001b[0m in \u001b[0;36m__call__\u001b[0;34m(self)\u001b[0m\n\u001b[1;32m    129\u001b[0m \u001b[0;34m\u001b[0m\u001b[0m\n\u001b[1;32m    130\u001b[0m     \u001b[0;32mdef\u001b[0m \u001b[0m__call__\u001b[0m\u001b[0;34m(\u001b[0m\u001b[0mself\u001b[0m\u001b[0;34m)\u001b[0m\u001b[0;34m:\u001b[0m\u001b[0;34m\u001b[0m\u001b[0;34m\u001b[0m\u001b[0m\n\u001b[0;32m--> 131\u001b[0;31m         \u001b[0;32mreturn\u001b[0m \u001b[0;34m[\u001b[0m\u001b[0mfunc\u001b[0m\u001b[0;34m(\u001b[0m\u001b[0;34m*\u001b[0m\u001b[0margs\u001b[0m\u001b[0;34m,\u001b[0m \u001b[0;34m**\u001b[0m\u001b[0mkwargs\u001b[0m\u001b[0;34m)\u001b[0m \u001b[0;32mfor\u001b[0m \u001b[0mfunc\u001b[0m\u001b[0;34m,\u001b[0m \u001b[0margs\u001b[0m\u001b[0;34m,\u001b[0m \u001b[0mkwargs\u001b[0m \u001b[0;32min\u001b[0m \u001b[0mself\u001b[0m\u001b[0;34m.\u001b[0m\u001b[0mitems\u001b[0m\u001b[0;34m]\u001b[0m\u001b[0;34m\u001b[0m\u001b[0;34m\u001b[0m\u001b[0m\n\u001b[0m\u001b[1;32m    132\u001b[0m \u001b[0;34m\u001b[0m\u001b[0m\n\u001b[1;32m    133\u001b[0m     \u001b[0;32mdef\u001b[0m \u001b[0m__len__\u001b[0m\u001b[0;34m(\u001b[0m\u001b[0mself\u001b[0m\u001b[0;34m)\u001b[0m\u001b[0;34m:\u001b[0m\u001b[0;34m\u001b[0m\u001b[0;34m\u001b[0m\u001b[0m\n",
      "\u001b[0;32m/usr/lib/python3.7/site-packages/sklearn/externals/joblib/parallel.py\u001b[0m in \u001b[0;36m<listcomp>\u001b[0;34m(.0)\u001b[0m\n\u001b[1;32m    129\u001b[0m \u001b[0;34m\u001b[0m\u001b[0m\n\u001b[1;32m    130\u001b[0m     \u001b[0;32mdef\u001b[0m \u001b[0m__call__\u001b[0m\u001b[0;34m(\u001b[0m\u001b[0mself\u001b[0m\u001b[0;34m)\u001b[0m\u001b[0;34m:\u001b[0m\u001b[0;34m\u001b[0m\u001b[0;34m\u001b[0m\u001b[0m\n\u001b[0;32m--> 131\u001b[0;31m         \u001b[0;32mreturn\u001b[0m \u001b[0;34m[\u001b[0m\u001b[0mfunc\u001b[0m\u001b[0;34m(\u001b[0m\u001b[0;34m*\u001b[0m\u001b[0margs\u001b[0m\u001b[0;34m,\u001b[0m \u001b[0;34m**\u001b[0m\u001b[0mkwargs\u001b[0m\u001b[0;34m)\u001b[0m \u001b[0;32mfor\u001b[0m \u001b[0mfunc\u001b[0m\u001b[0;34m,\u001b[0m \u001b[0margs\u001b[0m\u001b[0;34m,\u001b[0m \u001b[0mkwargs\u001b[0m \u001b[0;32min\u001b[0m \u001b[0mself\u001b[0m\u001b[0;34m.\u001b[0m\u001b[0mitems\u001b[0m\u001b[0;34m]\u001b[0m\u001b[0;34m\u001b[0m\u001b[0;34m\u001b[0m\u001b[0m\n\u001b[0m\u001b[1;32m    132\u001b[0m \u001b[0;34m\u001b[0m\u001b[0m\n\u001b[1;32m    133\u001b[0m     \u001b[0;32mdef\u001b[0m \u001b[0m__len__\u001b[0m\u001b[0;34m(\u001b[0m\u001b[0mself\u001b[0m\u001b[0;34m)\u001b[0m\u001b[0;34m:\u001b[0m\u001b[0;34m\u001b[0m\u001b[0;34m\u001b[0m\u001b[0m\n",
      "\u001b[0;32m/usr/lib/python3.7/site-packages/sklearn/model_selection/_validation.py\u001b[0m in \u001b[0;36m_fit_and_score\u001b[0;34m(estimator, X, y, scorer, train, test, verbose, parameters, fit_params, return_train_score, return_parameters, return_n_test_samples, return_times, error_score)\u001b[0m\n\u001b[1;32m    456\u001b[0m             \u001b[0mestimator\u001b[0m\u001b[0;34m.\u001b[0m\u001b[0mfit\u001b[0m\u001b[0;34m(\u001b[0m\u001b[0mX_train\u001b[0m\u001b[0;34m,\u001b[0m \u001b[0;34m**\u001b[0m\u001b[0mfit_params\u001b[0m\u001b[0;34m)\u001b[0m\u001b[0;34m\u001b[0m\u001b[0;34m\u001b[0m\u001b[0m\n\u001b[1;32m    457\u001b[0m         \u001b[0;32melse\u001b[0m\u001b[0;34m:\u001b[0m\u001b[0;34m\u001b[0m\u001b[0;34m\u001b[0m\u001b[0m\n\u001b[0;32m--> 458\u001b[0;31m             \u001b[0mestimator\u001b[0m\u001b[0;34m.\u001b[0m\u001b[0mfit\u001b[0m\u001b[0;34m(\u001b[0m\u001b[0mX_train\u001b[0m\u001b[0;34m,\u001b[0m \u001b[0my_train\u001b[0m\u001b[0;34m,\u001b[0m \u001b[0;34m**\u001b[0m\u001b[0mfit_params\u001b[0m\u001b[0;34m)\u001b[0m\u001b[0;34m\u001b[0m\u001b[0;34m\u001b[0m\u001b[0m\n\u001b[0m\u001b[1;32m    459\u001b[0m \u001b[0;34m\u001b[0m\u001b[0m\n\u001b[1;32m    460\u001b[0m     \u001b[0;32mexcept\u001b[0m \u001b[0mException\u001b[0m \u001b[0;32mas\u001b[0m \u001b[0me\u001b[0m\u001b[0;34m:\u001b[0m\u001b[0;34m\u001b[0m\u001b[0;34m\u001b[0m\u001b[0m\n",
      "\u001b[0;32m/usr/lib/python3.7/site-packages/sklearn/neural_network/multilayer_perceptron.py\u001b[0m in \u001b[0;36mfit\u001b[0;34m(self, X, y)\u001b[0m\n\u001b[1;32m    971\u001b[0m         \"\"\"\n\u001b[1;32m    972\u001b[0m         return self._fit(X, y, incremental=(self.warm_start and\n\u001b[0;32m--> 973\u001b[0;31m                                             hasattr(self, \"classes_\")))\n\u001b[0m\u001b[1;32m    974\u001b[0m \u001b[0;34m\u001b[0m\u001b[0m\n\u001b[1;32m    975\u001b[0m     \u001b[0;34m@\u001b[0m\u001b[0mproperty\u001b[0m\u001b[0;34m\u001b[0m\u001b[0;34m\u001b[0m\u001b[0m\n",
      "\u001b[0;32m/usr/lib/python3.7/site-packages/sklearn/neural_network/multilayer_perceptron.py\u001b[0m in \u001b[0;36m_fit\u001b[0;34m(self, X, y, incremental)\u001b[0m\n\u001b[1;32m    381\u001b[0m         \u001b[0;32melif\u001b[0m \u001b[0mself\u001b[0m\u001b[0;34m.\u001b[0m\u001b[0msolver\u001b[0m \u001b[0;34m==\u001b[0m \u001b[0;34m'lbfgs'\u001b[0m\u001b[0;34m:\u001b[0m\u001b[0;34m\u001b[0m\u001b[0;34m\u001b[0m\u001b[0m\n\u001b[1;32m    382\u001b[0m             self._fit_lbfgs(X, y, activations, deltas, coef_grads,\n\u001b[0;32m--> 383\u001b[0;31m                             intercept_grads, layer_units)\n\u001b[0m\u001b[1;32m    384\u001b[0m         \u001b[0;32mreturn\u001b[0m \u001b[0mself\u001b[0m\u001b[0;34m\u001b[0m\u001b[0;34m\u001b[0m\u001b[0m\n\u001b[1;32m    385\u001b[0m \u001b[0;34m\u001b[0m\u001b[0m\n",
      "\u001b[0;32m/usr/lib/python3.7/site-packages/sklearn/neural_network/multilayer_perceptron.py\u001b[0m in \u001b[0;36m_fit_lbfgs\u001b[0;34m(self, X, y, activations, deltas, coef_grads, intercept_grads, layer_units)\u001b[0m\n\u001b[1;32m    468\u001b[0m             \u001b[0miprint\u001b[0m\u001b[0;34m=\u001b[0m\u001b[0miprint\u001b[0m\u001b[0;34m,\u001b[0m\u001b[0;34m\u001b[0m\u001b[0;34m\u001b[0m\u001b[0m\n\u001b[1;32m    469\u001b[0m             \u001b[0mpgtol\u001b[0m\u001b[0;34m=\u001b[0m\u001b[0mself\u001b[0m\u001b[0;34m.\u001b[0m\u001b[0mtol\u001b[0m\u001b[0;34m,\u001b[0m\u001b[0;34m\u001b[0m\u001b[0;34m\u001b[0m\u001b[0m\n\u001b[0;32m--> 470\u001b[0;31m             args=(X, y, activations, deltas, coef_grads, intercept_grads))\n\u001b[0m\u001b[1;32m    471\u001b[0m \u001b[0;34m\u001b[0m\u001b[0m\n\u001b[1;32m    472\u001b[0m         \u001b[0mself\u001b[0m\u001b[0;34m.\u001b[0m\u001b[0m_unpack\u001b[0m\u001b[0;34m(\u001b[0m\u001b[0moptimal_parameters\u001b[0m\u001b[0;34m)\u001b[0m\u001b[0;34m\u001b[0m\u001b[0;34m\u001b[0m\u001b[0m\n",
      "\u001b[0;32m/usr/lib/python3.7/site-packages/scipy/optimize/lbfgsb.py\u001b[0m in \u001b[0;36mfmin_l_bfgs_b\u001b[0;34m(func, x0, fprime, args, approx_grad, bounds, m, factr, pgtol, epsilon, iprint, maxfun, maxiter, disp, callback, maxls)\u001b[0m\n\u001b[1;32m    197\u001b[0m \u001b[0;34m\u001b[0m\u001b[0m\n\u001b[1;32m    198\u001b[0m     res = _minimize_lbfgsb(fun, x0, args=args, jac=jac, bounds=bounds,\n\u001b[0;32m--> 199\u001b[0;31m                            **opts)\n\u001b[0m\u001b[1;32m    200\u001b[0m     d = {'grad': res['jac'],\n\u001b[1;32m    201\u001b[0m          \u001b[0;34m'task'\u001b[0m\u001b[0;34m:\u001b[0m \u001b[0mres\u001b[0m\u001b[0;34m[\u001b[0m\u001b[0;34m'message'\u001b[0m\u001b[0;34m]\u001b[0m\u001b[0;34m,\u001b[0m\u001b[0;34m\u001b[0m\u001b[0;34m\u001b[0m\u001b[0m\n",
      "\u001b[0;32m/usr/lib/python3.7/site-packages/scipy/optimize/lbfgsb.py\u001b[0m in \u001b[0;36m_minimize_lbfgsb\u001b[0;34m(fun, x0, args, jac, bounds, disp, maxcor, ftol, gtol, eps, maxfun, maxiter, iprint, callback, maxls, **unknown_options)\u001b[0m\n\u001b[1;32m    333\u001b[0m             \u001b[0;31m# until the completion of the current minimization iteration.\u001b[0m\u001b[0;34m\u001b[0m\u001b[0;34m\u001b[0m\u001b[0;34m\u001b[0m\u001b[0m\n\u001b[1;32m    334\u001b[0m             \u001b[0;31m# Overwrite f and g:\u001b[0m\u001b[0;34m\u001b[0m\u001b[0;34m\u001b[0m\u001b[0;34m\u001b[0m\u001b[0m\n\u001b[0;32m--> 335\u001b[0;31m             \u001b[0mf\u001b[0m\u001b[0;34m,\u001b[0m \u001b[0mg\u001b[0m \u001b[0;34m=\u001b[0m \u001b[0mfunc_and_grad\u001b[0m\u001b[0;34m(\u001b[0m\u001b[0mx\u001b[0m\u001b[0;34m)\u001b[0m\u001b[0;34m\u001b[0m\u001b[0;34m\u001b[0m\u001b[0m\n\u001b[0m\u001b[1;32m    336\u001b[0m         \u001b[0;32melif\u001b[0m \u001b[0mtask_str\u001b[0m\u001b[0;34m.\u001b[0m\u001b[0mstartswith\u001b[0m\u001b[0;34m(\u001b[0m\u001b[0;34mb'NEW_X'\u001b[0m\u001b[0;34m)\u001b[0m\u001b[0;34m:\u001b[0m\u001b[0;34m\u001b[0m\u001b[0;34m\u001b[0m\u001b[0m\n\u001b[1;32m    337\u001b[0m             \u001b[0;31m# new iteration\u001b[0m\u001b[0;34m\u001b[0m\u001b[0;34m\u001b[0m\u001b[0;34m\u001b[0m\u001b[0m\n",
      "\u001b[0;32m/usr/lib/python3.7/site-packages/scipy/optimize/lbfgsb.py\u001b[0m in \u001b[0;36mfunc_and_grad\u001b[0;34m(x)\u001b[0m\n\u001b[1;32m    283\u001b[0m     \u001b[0;32melse\u001b[0m\u001b[0;34m:\u001b[0m\u001b[0;34m\u001b[0m\u001b[0;34m\u001b[0m\u001b[0m\n\u001b[1;32m    284\u001b[0m         \u001b[0;32mdef\u001b[0m \u001b[0mfunc_and_grad\u001b[0m\u001b[0;34m(\u001b[0m\u001b[0mx\u001b[0m\u001b[0;34m)\u001b[0m\u001b[0;34m:\u001b[0m\u001b[0;34m\u001b[0m\u001b[0;34m\u001b[0m\u001b[0m\n\u001b[0;32m--> 285\u001b[0;31m             \u001b[0mf\u001b[0m \u001b[0;34m=\u001b[0m \u001b[0mfun\u001b[0m\u001b[0;34m(\u001b[0m\u001b[0mx\u001b[0m\u001b[0;34m,\u001b[0m \u001b[0;34m*\u001b[0m\u001b[0margs\u001b[0m\u001b[0;34m)\u001b[0m\u001b[0;34m\u001b[0m\u001b[0;34m\u001b[0m\u001b[0m\n\u001b[0m\u001b[1;32m    286\u001b[0m             \u001b[0mg\u001b[0m \u001b[0;34m=\u001b[0m \u001b[0mjac\u001b[0m\u001b[0;34m(\u001b[0m\u001b[0mx\u001b[0m\u001b[0;34m,\u001b[0m \u001b[0;34m*\u001b[0m\u001b[0margs\u001b[0m\u001b[0;34m)\u001b[0m\u001b[0;34m\u001b[0m\u001b[0;34m\u001b[0m\u001b[0m\n\u001b[1;32m    287\u001b[0m             \u001b[0;32mreturn\u001b[0m \u001b[0mf\u001b[0m\u001b[0;34m,\u001b[0m \u001b[0mg\u001b[0m\u001b[0;34m\u001b[0m\u001b[0;34m\u001b[0m\u001b[0m\n",
      "\u001b[0;32m/usr/lib/python3.7/site-packages/scipy/optimize/optimize.py\u001b[0m in \u001b[0;36mfunction_wrapper\u001b[0;34m(*wrapper_args)\u001b[0m\n\u001b[1;32m    291\u001b[0m     \u001b[0;32mdef\u001b[0m \u001b[0mfunction_wrapper\u001b[0m\u001b[0;34m(\u001b[0m\u001b[0;34m*\u001b[0m\u001b[0mwrapper_args\u001b[0m\u001b[0;34m)\u001b[0m\u001b[0;34m:\u001b[0m\u001b[0;34m\u001b[0m\u001b[0;34m\u001b[0m\u001b[0m\n\u001b[1;32m    292\u001b[0m         \u001b[0mncalls\u001b[0m\u001b[0;34m[\u001b[0m\u001b[0;36m0\u001b[0m\u001b[0;34m]\u001b[0m \u001b[0;34m+=\u001b[0m \u001b[0;36m1\u001b[0m\u001b[0;34m\u001b[0m\u001b[0;34m\u001b[0m\u001b[0m\n\u001b[0;32m--> 293\u001b[0;31m         \u001b[0;32mreturn\u001b[0m \u001b[0mfunction\u001b[0m\u001b[0;34m(\u001b[0m\u001b[0;34m*\u001b[0m\u001b[0;34m(\u001b[0m\u001b[0mwrapper_args\u001b[0m \u001b[0;34m+\u001b[0m \u001b[0margs\u001b[0m\u001b[0;34m)\u001b[0m\u001b[0;34m)\u001b[0m\u001b[0;34m\u001b[0m\u001b[0;34m\u001b[0m\u001b[0m\n\u001b[0m\u001b[1;32m    294\u001b[0m \u001b[0;34m\u001b[0m\u001b[0m\n\u001b[1;32m    295\u001b[0m     \u001b[0;32mreturn\u001b[0m \u001b[0mncalls\u001b[0m\u001b[0;34m,\u001b[0m \u001b[0mfunction_wrapper\u001b[0m\u001b[0;34m\u001b[0m\u001b[0;34m\u001b[0m\u001b[0m\n",
      "\u001b[0;32m/usr/lib/python3.7/site-packages/scipy/optimize/optimize.py\u001b[0m in \u001b[0;36m__call__\u001b[0;34m(self, x, *args)\u001b[0m\n\u001b[1;32m     61\u001b[0m     \u001b[0;32mdef\u001b[0m \u001b[0m__call__\u001b[0m\u001b[0;34m(\u001b[0m\u001b[0mself\u001b[0m\u001b[0;34m,\u001b[0m \u001b[0mx\u001b[0m\u001b[0;34m,\u001b[0m \u001b[0;34m*\u001b[0m\u001b[0margs\u001b[0m\u001b[0;34m)\u001b[0m\u001b[0;34m:\u001b[0m\u001b[0;34m\u001b[0m\u001b[0;34m\u001b[0m\u001b[0m\n\u001b[1;32m     62\u001b[0m         \u001b[0mself\u001b[0m\u001b[0;34m.\u001b[0m\u001b[0mx\u001b[0m \u001b[0;34m=\u001b[0m \u001b[0mnumpy\u001b[0m\u001b[0;34m.\u001b[0m\u001b[0masarray\u001b[0m\u001b[0;34m(\u001b[0m\u001b[0mx\u001b[0m\u001b[0;34m)\u001b[0m\u001b[0;34m.\u001b[0m\u001b[0mcopy\u001b[0m\u001b[0;34m(\u001b[0m\u001b[0;34m)\u001b[0m\u001b[0;34m\u001b[0m\u001b[0;34m\u001b[0m\u001b[0m\n\u001b[0;32m---> 63\u001b[0;31m         \u001b[0mfg\u001b[0m \u001b[0;34m=\u001b[0m \u001b[0mself\u001b[0m\u001b[0;34m.\u001b[0m\u001b[0mfun\u001b[0m\u001b[0;34m(\u001b[0m\u001b[0mx\u001b[0m\u001b[0;34m,\u001b[0m \u001b[0;34m*\u001b[0m\u001b[0margs\u001b[0m\u001b[0;34m)\u001b[0m\u001b[0;34m\u001b[0m\u001b[0;34m\u001b[0m\u001b[0m\n\u001b[0m\u001b[1;32m     64\u001b[0m         \u001b[0mself\u001b[0m\u001b[0;34m.\u001b[0m\u001b[0mjac\u001b[0m \u001b[0;34m=\u001b[0m \u001b[0mfg\u001b[0m\u001b[0;34m[\u001b[0m\u001b[0;36m1\u001b[0m\u001b[0;34m]\u001b[0m\u001b[0;34m\u001b[0m\u001b[0;34m\u001b[0m\u001b[0m\n\u001b[1;32m     65\u001b[0m         \u001b[0;32mreturn\u001b[0m \u001b[0mfg\u001b[0m\u001b[0;34m[\u001b[0m\u001b[0;36m0\u001b[0m\u001b[0;34m]\u001b[0m\u001b[0;34m\u001b[0m\u001b[0;34m\u001b[0m\u001b[0m\n",
      "\u001b[0;32m/usr/lib/python3.7/site-packages/sklearn/neural_network/multilayer_perceptron.py\u001b[0m in \u001b[0;36m_loss_grad_lbfgs\u001b[0;34m(self, packed_coef_inter, X, y, activations, deltas, coef_grads, intercept_grads)\u001b[0m\n\u001b[1;32m    177\u001b[0m         \u001b[0mself\u001b[0m\u001b[0;34m.\u001b[0m\u001b[0m_unpack\u001b[0m\u001b[0;34m(\u001b[0m\u001b[0mpacked_coef_inter\u001b[0m\u001b[0;34m)\u001b[0m\u001b[0;34m\u001b[0m\u001b[0;34m\u001b[0m\u001b[0m\n\u001b[1;32m    178\u001b[0m         loss, coef_grads, intercept_grads = self._backprop(\n\u001b[0;32m--> 179\u001b[0;31m             X, y, activations, deltas, coef_grads, intercept_grads)\n\u001b[0m\u001b[1;32m    180\u001b[0m         \u001b[0mself\u001b[0m\u001b[0;34m.\u001b[0m\u001b[0mn_iter_\u001b[0m \u001b[0;34m+=\u001b[0m \u001b[0;36m1\u001b[0m\u001b[0;34m\u001b[0m\u001b[0;34m\u001b[0m\u001b[0m\n\u001b[1;32m    181\u001b[0m         \u001b[0mgrad\u001b[0m \u001b[0;34m=\u001b[0m \u001b[0m_pack\u001b[0m\u001b[0;34m(\u001b[0m\u001b[0mcoef_grads\u001b[0m\u001b[0;34m,\u001b[0m \u001b[0mintercept_grads\u001b[0m\u001b[0;34m)\u001b[0m\u001b[0;34m\u001b[0m\u001b[0;34m\u001b[0m\u001b[0m\n",
      "\u001b[0;32m/usr/lib/python3.7/site-packages/sklearn/neural_network/multilayer_perceptron.py\u001b[0m in \u001b[0;36m_backprop\u001b[0;34m(self, X, y, activations, deltas, coef_grads, intercept_grads)\u001b[0m\n\u001b[1;32m    249\u001b[0m         \u001b[0;31m# Iterate over the hidden layers\u001b[0m\u001b[0;34m\u001b[0m\u001b[0;34m\u001b[0m\u001b[0;34m\u001b[0m\u001b[0m\n\u001b[1;32m    250\u001b[0m         \u001b[0;32mfor\u001b[0m \u001b[0mi\u001b[0m \u001b[0;32min\u001b[0m \u001b[0mrange\u001b[0m\u001b[0;34m(\u001b[0m\u001b[0mself\u001b[0m\u001b[0;34m.\u001b[0m\u001b[0mn_layers_\u001b[0m \u001b[0;34m-\u001b[0m \u001b[0;36m2\u001b[0m\u001b[0;34m,\u001b[0m \u001b[0;36m0\u001b[0m\u001b[0;34m,\u001b[0m \u001b[0;34m-\u001b[0m\u001b[0;36m1\u001b[0m\u001b[0;34m)\u001b[0m\u001b[0;34m:\u001b[0m\u001b[0;34m\u001b[0m\u001b[0;34m\u001b[0m\u001b[0m\n\u001b[0;32m--> 251\u001b[0;31m             \u001b[0mdeltas\u001b[0m\u001b[0;34m[\u001b[0m\u001b[0mi\u001b[0m \u001b[0;34m-\u001b[0m \u001b[0;36m1\u001b[0m\u001b[0;34m]\u001b[0m \u001b[0;34m=\u001b[0m \u001b[0msafe_sparse_dot\u001b[0m\u001b[0;34m(\u001b[0m\u001b[0mdeltas\u001b[0m\u001b[0;34m[\u001b[0m\u001b[0mi\u001b[0m\u001b[0;34m]\u001b[0m\u001b[0;34m,\u001b[0m \u001b[0mself\u001b[0m\u001b[0;34m.\u001b[0m\u001b[0mcoefs_\u001b[0m\u001b[0;34m[\u001b[0m\u001b[0mi\u001b[0m\u001b[0;34m]\u001b[0m\u001b[0;34m.\u001b[0m\u001b[0mT\u001b[0m\u001b[0;34m)\u001b[0m\u001b[0;34m\u001b[0m\u001b[0;34m\u001b[0m\u001b[0m\n\u001b[0m\u001b[1;32m    252\u001b[0m             \u001b[0minplace_derivative\u001b[0m \u001b[0;34m=\u001b[0m \u001b[0mDERIVATIVES\u001b[0m\u001b[0;34m[\u001b[0m\u001b[0mself\u001b[0m\u001b[0;34m.\u001b[0m\u001b[0mactivation\u001b[0m\u001b[0;34m]\u001b[0m\u001b[0;34m\u001b[0m\u001b[0;34m\u001b[0m\u001b[0m\n\u001b[1;32m    253\u001b[0m             \u001b[0minplace_derivative\u001b[0m\u001b[0;34m(\u001b[0m\u001b[0mactivations\u001b[0m\u001b[0;34m[\u001b[0m\u001b[0mi\u001b[0m\u001b[0;34m]\u001b[0m\u001b[0;34m,\u001b[0m \u001b[0mdeltas\u001b[0m\u001b[0;34m[\u001b[0m\u001b[0mi\u001b[0m \u001b[0;34m-\u001b[0m \u001b[0;36m1\u001b[0m\u001b[0;34m]\u001b[0m\u001b[0;34m)\u001b[0m\u001b[0;34m\u001b[0m\u001b[0;34m\u001b[0m\u001b[0m\n",
      "\u001b[0;32m/usr/lib/python3.7/site-packages/sklearn/utils/extmath.py\u001b[0m in \u001b[0;36msafe_sparse_dot\u001b[0;34m(a, b, dense_output)\u001b[0m\n\u001b[1;32m    138\u001b[0m         \u001b[0;32mreturn\u001b[0m \u001b[0mret\u001b[0m\u001b[0;34m\u001b[0m\u001b[0;34m\u001b[0m\u001b[0m\n\u001b[1;32m    139\u001b[0m     \u001b[0;32melse\u001b[0m\u001b[0;34m:\u001b[0m\u001b[0;34m\u001b[0m\u001b[0;34m\u001b[0m\u001b[0m\n\u001b[0;32m--> 140\u001b[0;31m         \u001b[0;32mreturn\u001b[0m \u001b[0mnp\u001b[0m\u001b[0;34m.\u001b[0m\u001b[0mdot\u001b[0m\u001b[0;34m(\u001b[0m\u001b[0ma\u001b[0m\u001b[0;34m,\u001b[0m \u001b[0mb\u001b[0m\u001b[0;34m)\u001b[0m\u001b[0;34m\u001b[0m\u001b[0;34m\u001b[0m\u001b[0m\n\u001b[0m\u001b[1;32m    141\u001b[0m \u001b[0;34m\u001b[0m\u001b[0m\n\u001b[1;32m    142\u001b[0m \u001b[0;34m\u001b[0m\u001b[0m\n",
      "\u001b[0;31mKeyboardInterrupt\u001b[0m: "
     ]
    }
   ],
   "source": [
    "param_grid = {\n",
    "    'hidden_layer_sizes': [(50,), (100,), (50, 50), (100, 100)],\n",
    "    'solver': ['lbfgs', 'sgd', 'adam'],\n",
    "    'alpha': [1e-4, 1e-3, 1e-2, 1e-1],\n",
    "    'learning_rate': ['constant', 'invscaling', 'adaptive']\n",
    "}\n",
    "\n",
    "best_model = GridSearchCV(MLPClassifier(random_state=1, activation='logistic'),\n",
    "                          param_grid,\n",
    "                          cv=get_kfold(),\n",
    "                          scoring='accuracy',\n",
    "                          verbose=20)\n",
    "\n",
    "best_model.fit(X_Scaled, y)"
   ]
  },
  {
   "cell_type": "code",
   "execution_count": null,
   "metadata": {},
   "outputs": [],
   "source": [
    "print('Best accuracy :', best_model.best_score_)\n",
    "print('Best params   :', best_model.best_params_)"
   ]
  },
  {
   "cell_type": "code",
   "execution_count": null,
   "metadata": {},
   "outputs": [],
   "source": [
    "best_params = {'alpha': 0.01, 'hidden_layer_sizes': (100, 100), 'learning_rate': 'constant', 'solver': 'adam'}\n",
    "model = MLPClassifier(random_state=1, activation='logistic', **best_params)\n",
    "print_cv_result(model, X_Scaled, y)"
   ]
  },
  {
   "cell_type": "markdown",
   "metadata": {},
   "source": [
    "# Final Train"
   ]
  },
  {
   "cell_type": "code",
   "execution_count": null,
   "metadata": {},
   "outputs": [],
   "source": [
    "best_params = {'alpha': 0.01, 'hidden_layer_sizes': (100, 100), 'learning_rate': 'constant', 'solver': 'adam'}\n",
    "model = MLPClassifier(random_state=1, activation='logistic', **best_params)\n",
    "model.fit(X_Scaled, y)"
   ]
  },
  {
   "cell_type": "markdown",
   "metadata": {},
   "source": [
    "## Save Best Model"
   ]
  },
  {
   "cell_type": "code",
   "execution_count": null,
   "metadata": {},
   "outputs": [],
   "source": [
    "pickle.dump(model, open('{}/taki2_best_model.pkl'.format(MODEL_PATH), 'wb'))"
   ]
  }
 ],
 "metadata": {
  "kernelspec": {
   "display_name": "Python 3",
   "language": "python",
   "name": "python3"
  },
  "language_info": {
   "codemirror_mode": {
    "name": "ipython",
    "version": 3
   },
   "file_extension": ".py",
   "mimetype": "text/x-python",
   "name": "python",
   "nbconvert_exporter": "python",
   "pygments_lexer": "ipython3",
   "version": "3.7.1"
  }
 },
 "nbformat": 4,
 "nbformat_minor": 2
}
