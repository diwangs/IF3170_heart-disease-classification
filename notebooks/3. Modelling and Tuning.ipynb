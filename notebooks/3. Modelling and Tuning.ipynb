{
 "cells": [
  {
   "cell_type": "code",
   "execution_count": 24,
   "metadata": {},
   "outputs": [],
   "source": [
    "import pandas as pd\n",
    "import numpy as np\n",
    "\n",
    "from sklearn.linear_model import LogisticRegression\n",
    "from sklearn.neighbors import KNeighborsClassifier\n",
    "from sklearn.tree import DecisionTreeClassifier\n",
    "from sklearn.neural_network import MLPClassifier\n",
    "\n",
    "from sklearn.model_selection import train_test_split, KFold\n",
    "\n",
    "from sklearn.metrics import accuracy_score, recall_score, precision_score\n",
    "\n",
    "import pickle\n",
    "\n",
    "import warnings\n",
    "\n",
    "warnings.filterwarnings('ignore')"
   ]
  },
  {
   "cell_type": "markdown",
   "metadata": {},
   "source": [
    "# Load data"
   ]
  },
  {
   "cell_type": "markdown",
   "metadata": {},
   "source": [
    "### Initialize path constant"
   ]
  },
  {
   "cell_type": "code",
   "execution_count": 26,
   "metadata": {},
   "outputs": [],
   "source": [
    "DATA_PATH = '../data'\n",
    "RAW_DATA_PATH = '{}/raw'.format(DATA_PATH)\n",
    "PROCESSED_DATA_PATH = '{}/processed'.format(DATA_PATH)\n",
    "\n",
    "MODEL_PATH = '../models'"
   ]
  },
  {
   "cell_type": "markdown",
   "metadata": {},
   "source": [
    "### Read processed data from CSV"
   ]
  },
  {
   "cell_type": "code",
   "execution_count": 3,
   "metadata": {},
   "outputs": [],
   "source": [
    "data = pd.read_csv('{}/processed_data.csv'.format(PROCESSED_DATA_PATH))\n",
    "X = data.drop(['heart_disease_diagnosis','sex'], axis=1)\n",
    "y = data['heart_disease_diagnosis']"
   ]
  },
  {
   "cell_type": "markdown",
   "metadata": {},
   "source": [
    "# Cross Validation"
   ]
  },
  {
   "cell_type": "markdown",
   "metadata": {},
   "source": [
    "### CV Function"
   ]
  },
  {
   "cell_type": "code",
   "execution_count": 18,
   "metadata": {},
   "outputs": [],
   "source": [
    "def get_cv_data_partition(X, y):\n",
    "    return train_test_split(X, y, test_size=0.2, random_state=1)\n",
    "\n",
    "def print_metrics(y_true, y_pred):\n",
    "    accuracy = accuracy_score(y_pred=y_pred, y_true=y_true)\n",
    "    precision = precision_score(y_pred=y_pred, y_true=y_true, average='macro')\n",
    "    recall = recall_score(y_pred=y_pred, y_true=y_true, average='macro')\n",
    "    \n",
    "    print('--- Validation Metrics ---')\n",
    "    print('Accuracy  = {:.3f}'.format(accuracy))\n",
    "    print('Precision = {:.3f}'.format(precision))\n",
    "    print('Recall    = {:.3f}'.format(recall))\n",
    "\n",
    "def print_cv_result(model, X, y):\n",
    "    # Partition data\n",
    "    X_train, X_validation, y_train, y_validation = get_cv_data_partition(X, y)\n",
    "    \n",
    "    # Train model\n",
    "    model.fit(X_train, y_train)\n",
    "    \n",
    "    # Predict validation\n",
    "    prediction = model.predict(X_validation)\n",
    "    \n",
    "    # Print validation metrics\n",
    "    print_metrics(y_validation, prediction)"
   ]
  },
  {
   "cell_type": "markdown",
   "metadata": {},
   "source": [
    "## Models"
   ]
  },
  {
   "cell_type": "markdown",
   "metadata": {},
   "source": [
    "### Logistic Regression"
   ]
  },
  {
   "cell_type": "code",
   "execution_count": 19,
   "metadata": {},
   "outputs": [
    {
     "name": "stdout",
     "output_type": "stream",
     "text": [
      "=== Logistic Regression ===\n",
      "\n",
      "--- Validation Metrics ---\n",
      "Accuracy  = 0.564\n",
      "Precision = 0.356\n",
      "Recall    = 0.320\n"
     ]
    }
   ],
   "source": [
    "model_name = 'Logistic Regression'\n",
    "model = LogisticRegression()\n",
    "\n",
    "print('=== {} ===\\n'.format(model_name))\n",
    "print_cv_result(model, X, y)"
   ]
  },
  {
   "cell_type": "markdown",
   "metadata": {},
   "source": [
    "### KNN"
   ]
  },
  {
   "cell_type": "code",
   "execution_count": 21,
   "metadata": {},
   "outputs": [
    {
     "name": "stdout",
     "output_type": "stream",
     "text": [
      "=== K-Nearest Neighbor ===\n",
      "\n",
      "--- Validation Metrics ---\n",
      "Accuracy  = 0.429\n",
      "Precision = 0.184\n",
      "Recall    = 0.218\n"
     ]
    }
   ],
   "source": [
    "model_name = 'K-Nearest Neighbor'\n",
    "model = KNeighborsClassifier()\n",
    "\n",
    "print('=== {} ===\\n'.format(model_name))\n",
    "print_cv_result(model, X, y)"
   ]
  },
  {
   "cell_type": "markdown",
   "metadata": {},
   "source": [
    "### Decision Tree"
   ]
  },
  {
   "cell_type": "code",
   "execution_count": 22,
   "metadata": {},
   "outputs": [
    {
     "name": "stdout",
     "output_type": "stream",
     "text": [
      "=== Decision Tree ===\n",
      "\n",
      "--- Validation Metrics ---\n",
      "Accuracy  = 0.417\n",
      "Precision = 0.296\n",
      "Recall    = 0.276\n"
     ]
    }
   ],
   "source": [
    "model_name = 'Decision Tree'\n",
    "model = DecisionTreeClassifier(criterion='entropy', random_state=1)\n",
    "\n",
    "print('=== {} ===\\n'.format(model_name))\n",
    "print_cv_result(model, X, y)"
   ]
  },
  {
   "cell_type": "markdown",
   "metadata": {},
   "source": [
    "### ANN"
   ]
  },
  {
   "cell_type": "code",
   "execution_count": 23,
   "metadata": {},
   "outputs": [
    {
     "name": "stdout",
     "output_type": "stream",
     "text": [
      "=== ANN ===\n",
      "\n",
      "--- Validation Metrics ---\n",
      "Accuracy  = 0.532\n",
      "Precision = 0.477\n",
      "Recall    = 0.322\n"
     ]
    }
   ],
   "source": [
    "model_name = 'ANN'\n",
    "model = MLPClassifier(random_state=1)\n",
    "\n",
    "print('=== {} ===\\n'.format(model_name))\n",
    "print_cv_result(model, X, y)"
   ]
  },
  {
   "cell_type": "markdown",
   "metadata": {},
   "source": [
    "## Save Best Model"
   ]
  },
  {
   "cell_type": "code",
   "execution_count": 27,
   "metadata": {},
   "outputs": [],
   "source": [
    "best_model = LogisticRegression()\n",
    "best_model.fit(X, y)\n",
    "\n",
    "pickle.dump(best_model, open('{}/best_model.pkl'.format(MODEL_PATH), 'wb'))"
   ]
  }
 ],
 "metadata": {
  "kernelspec": {
   "display_name": "Python 3",
   "language": "python",
   "name": "python3"
  },
  "language_info": {
   "codemirror_mode": {
    "name": "ipython",
    "version": 3
   },
   "file_extension": ".py",
   "mimetype": "text/x-python",
   "name": "python",
   "nbconvert_exporter": "python",
   "pygments_lexer": "ipython3",
   "version": "3.7.0"
  }
 },
 "nbformat": 4,
 "nbformat_minor": 2
}
