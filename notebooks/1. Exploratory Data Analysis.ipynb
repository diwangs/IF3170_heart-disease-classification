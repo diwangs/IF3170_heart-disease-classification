{
 "cells": [
  {
   "cell_type": "code",
   "execution_count": 2,
   "metadata": {},
   "outputs": [],
   "source": [
    "import numpy as np\n",
    "import pandas as pd\n",
    "import matplotlib.pyplot as plt\n",
    "import seaborn as sns\n",
    "%matplotlib inline"
   ]
  },
  {
   "cell_type": "markdown",
   "metadata": {},
   "source": [
    "## Load Data"
   ]
  },
  {
   "cell_type": "code",
   "execution_count": 3,
   "metadata": {},
   "outputs": [
    {
     "name": "stdout",
     "output_type": "stream",
     "text": [
      "'~$description.xlsx'\t\t  tubes2_HeartDisease_test.csv\r\n",
      " description.xlsx\t\t  tubes2_HeartDisease_train.csv\r\n",
      " TBSC2-20181112T130549Z-001.zip\r\n"
     ]
    }
   ],
   "source": [
    "!ls ../data/raw"
   ]
  },
  {
   "cell_type": "markdown",
   "metadata": {},
   "source": [
    "### Initialize Path Constants"
   ]
  },
  {
   "cell_type": "code",
   "execution_count": 4,
   "metadata": {},
   "outputs": [],
   "source": [
    "RAW_DATA_PATH = '../data/raw'"
   ]
  },
  {
   "cell_type": "markdown",
   "metadata": {},
   "source": [
    "### Load CSV File"
   ]
  },
  {
   "cell_type": "code",
   "execution_count": 5,
   "metadata": {},
   "outputs": [],
   "source": [
    "train_df = pd.read_csv('{}/tubes2_HeartDisease_train.csv'.format(RAW_DATA_PATH))\n",
    "test_df = pd.read_csv('{}/tubes2_HeartDisease_test.csv'.format(RAW_DATA_PATH))"
   ]
  },
  {
   "cell_type": "code",
   "execution_count": 6,
   "metadata": {},
   "outputs": [
    {
     "data": {
      "text/html": [
       "<div>\n",
       "<style scoped>\n",
       "    .dataframe tbody tr th:only-of-type {\n",
       "        vertical-align: middle;\n",
       "    }\n",
       "\n",
       "    .dataframe tbody tr th {\n",
       "        vertical-align: top;\n",
       "    }\n",
       "\n",
       "    .dataframe thead th {\n",
       "        text-align: right;\n",
       "    }\n",
       "</style>\n",
       "<table border=\"1\" class=\"dataframe\">\n",
       "  <thead>\n",
       "    <tr style=\"text-align: right;\">\n",
       "      <th></th>\n",
       "      <th>Column1</th>\n",
       "      <th>Column2</th>\n",
       "      <th>Column3</th>\n",
       "      <th>Column4</th>\n",
       "      <th>Column5</th>\n",
       "      <th>Column6</th>\n",
       "      <th>Column7</th>\n",
       "      <th>Column8</th>\n",
       "      <th>Column9</th>\n",
       "      <th>Column10</th>\n",
       "      <th>Column11</th>\n",
       "      <th>Column12</th>\n",
       "      <th>Column13</th>\n",
       "      <th>Column14</th>\n",
       "    </tr>\n",
       "  </thead>\n",
       "  <tbody>\n",
       "    <tr>\n",
       "      <th>0</th>\n",
       "      <td>54</td>\n",
       "      <td>1</td>\n",
       "      <td>4</td>\n",
       "      <td>125</td>\n",
       "      <td>216</td>\n",
       "      <td>0</td>\n",
       "      <td>0</td>\n",
       "      <td>140</td>\n",
       "      <td>0</td>\n",
       "      <td>0</td>\n",
       "      <td>?</td>\n",
       "      <td>?</td>\n",
       "      <td>?</td>\n",
       "      <td>1</td>\n",
       "    </tr>\n",
       "    <tr>\n",
       "      <th>1</th>\n",
       "      <td>55</td>\n",
       "      <td>1</td>\n",
       "      <td>4</td>\n",
       "      <td>158</td>\n",
       "      <td>217</td>\n",
       "      <td>0</td>\n",
       "      <td>0</td>\n",
       "      <td>110</td>\n",
       "      <td>1</td>\n",
       "      <td>2.5</td>\n",
       "      <td>2</td>\n",
       "      <td>?</td>\n",
       "      <td>?</td>\n",
       "      <td>1</td>\n",
       "    </tr>\n",
       "    <tr>\n",
       "      <th>2</th>\n",
       "      <td>54</td>\n",
       "      <td>0</td>\n",
       "      <td>3</td>\n",
       "      <td>135</td>\n",
       "      <td>304</td>\n",
       "      <td>1</td>\n",
       "      <td>0</td>\n",
       "      <td>170</td>\n",
       "      <td>0</td>\n",
       "      <td>0</td>\n",
       "      <td>1</td>\n",
       "      <td>0</td>\n",
       "      <td>3</td>\n",
       "      <td>0</td>\n",
       "    </tr>\n",
       "    <tr>\n",
       "      <th>3</th>\n",
       "      <td>48</td>\n",
       "      <td>0</td>\n",
       "      <td>3</td>\n",
       "      <td>120</td>\n",
       "      <td>195</td>\n",
       "      <td>0</td>\n",
       "      <td>0</td>\n",
       "      <td>125</td>\n",
       "      <td>0</td>\n",
       "      <td>0</td>\n",
       "      <td>?</td>\n",
       "      <td>?</td>\n",
       "      <td>?</td>\n",
       "      <td>0</td>\n",
       "    </tr>\n",
       "    <tr>\n",
       "      <th>4</th>\n",
       "      <td>50</td>\n",
       "      <td>1</td>\n",
       "      <td>4</td>\n",
       "      <td>120</td>\n",
       "      <td>0</td>\n",
       "      <td>0</td>\n",
       "      <td>1</td>\n",
       "      <td>156</td>\n",
       "      <td>1</td>\n",
       "      <td>0</td>\n",
       "      <td>1</td>\n",
       "      <td>?</td>\n",
       "      <td>6</td>\n",
       "      <td>3</td>\n",
       "    </tr>\n",
       "  </tbody>\n",
       "</table>\n",
       "</div>"
      ],
      "text/plain": [
       "   Column1  Column2  Column3 Column4 Column5 Column6 Column7 Column8 Column9  \\\n",
       "0       54        1        4     125     216       0       0     140       0   \n",
       "1       55        1        4     158     217       0       0     110       1   \n",
       "2       54        0        3     135     304       1       0     170       0   \n",
       "3       48        0        3     120     195       0       0     125       0   \n",
       "4       50        1        4     120       0       0       1     156       1   \n",
       "\n",
       "  Column10 Column11 Column12 Column13  Column14  \n",
       "0        0        ?        ?        ?         1  \n",
       "1      2.5        2        ?        ?         1  \n",
       "2        0        1        0        3         0  \n",
       "3        0        ?        ?        ?         0  \n",
       "4        0        1        ?        6         3  "
      ]
     },
     "execution_count": 6,
     "metadata": {},
     "output_type": "execute_result"
    }
   ],
   "source": [
    "train_df.head()"
   ]
  },
  {
   "cell_type": "code",
   "execution_count": 7,
   "metadata": {},
   "outputs": [
    {
     "data": {
      "text/html": [
       "<div>\n",
       "<style scoped>\n",
       "    .dataframe tbody tr th:only-of-type {\n",
       "        vertical-align: middle;\n",
       "    }\n",
       "\n",
       "    .dataframe tbody tr th {\n",
       "        vertical-align: top;\n",
       "    }\n",
       "\n",
       "    .dataframe thead th {\n",
       "        text-align: right;\n",
       "    }\n",
       "</style>\n",
       "<table border=\"1\" class=\"dataframe\">\n",
       "  <thead>\n",
       "    <tr style=\"text-align: right;\">\n",
       "      <th></th>\n",
       "      <th>Column1</th>\n",
       "      <th>Column2</th>\n",
       "      <th>Column3</th>\n",
       "      <th>Column4</th>\n",
       "      <th>Column5</th>\n",
       "      <th>Column6</th>\n",
       "      <th>Column7</th>\n",
       "      <th>Column8</th>\n",
       "      <th>Column9</th>\n",
       "      <th>Column10</th>\n",
       "      <th>Column11</th>\n",
       "      <th>Column12</th>\n",
       "      <th>Column13</th>\n",
       "    </tr>\n",
       "  </thead>\n",
       "  <tbody>\n",
       "    <tr>\n",
       "      <th>0</th>\n",
       "      <td>60</td>\n",
       "      <td>1</td>\n",
       "      <td>2</td>\n",
       "      <td>160</td>\n",
       "      <td>267</td>\n",
       "      <td>1</td>\n",
       "      <td>1</td>\n",
       "      <td>157</td>\n",
       "      <td>0</td>\n",
       "      <td>0.5</td>\n",
       "      <td>2</td>\n",
       "      <td>?</td>\n",
       "      <td>?</td>\n",
       "    </tr>\n",
       "    <tr>\n",
       "      <th>1</th>\n",
       "      <td>61</td>\n",
       "      <td>1</td>\n",
       "      <td>4</td>\n",
       "      <td>148</td>\n",
       "      <td>203</td>\n",
       "      <td>0</td>\n",
       "      <td>0</td>\n",
       "      <td>161</td>\n",
       "      <td>0</td>\n",
       "      <td>0</td>\n",
       "      <td>1</td>\n",
       "      <td>1</td>\n",
       "      <td>7</td>\n",
       "    </tr>\n",
       "    <tr>\n",
       "      <th>2</th>\n",
       "      <td>54</td>\n",
       "      <td>1</td>\n",
       "      <td>4</td>\n",
       "      <td>130</td>\n",
       "      <td>242</td>\n",
       "      <td>0</td>\n",
       "      <td>0</td>\n",
       "      <td>91</td>\n",
       "      <td>1</td>\n",
       "      <td>1</td>\n",
       "      <td>2</td>\n",
       "      <td>?</td>\n",
       "      <td>?</td>\n",
       "    </tr>\n",
       "    <tr>\n",
       "      <th>3</th>\n",
       "      <td>48</td>\n",
       "      <td>1</td>\n",
       "      <td>4</td>\n",
       "      <td>120</td>\n",
       "      <td>260</td>\n",
       "      <td>0</td>\n",
       "      <td>0</td>\n",
       "      <td>115</td>\n",
       "      <td>0</td>\n",
       "      <td>2</td>\n",
       "      <td>2</td>\n",
       "      <td>?</td>\n",
       "      <td>?</td>\n",
       "    </tr>\n",
       "    <tr>\n",
       "      <th>4</th>\n",
       "      <td>57</td>\n",
       "      <td>0</td>\n",
       "      <td>1</td>\n",
       "      <td>130</td>\n",
       "      <td>308</td>\n",
       "      <td>0</td>\n",
       "      <td>0</td>\n",
       "      <td>98</td>\n",
       "      <td>0</td>\n",
       "      <td>1</td>\n",
       "      <td>2</td>\n",
       "      <td>?</td>\n",
       "      <td>?</td>\n",
       "    </tr>\n",
       "  </tbody>\n",
       "</table>\n",
       "</div>"
      ],
      "text/plain": [
       "   Column1  Column2  Column3 Column4 Column5 Column6  Column7 Column8 Column9  \\\n",
       "0       60        1        2     160     267       1        1     157       0   \n",
       "1       61        1        4     148     203       0        0     161       0   \n",
       "2       54        1        4     130     242       0        0      91       1   \n",
       "3       48        1        4     120     260       0        0     115       0   \n",
       "4       57        0        1     130     308       0        0      98       0   \n",
       "\n",
       "  Column10 Column11 Column12 Column13  \n",
       "0      0.5        2        ?        ?  \n",
       "1        0        1        1        7  \n",
       "2        1        2        ?        ?  \n",
       "3        2        2        ?        ?  \n",
       "4        1        2        ?        ?  "
      ]
     },
     "execution_count": 7,
     "metadata": {},
     "output_type": "execute_result"
    }
   ],
   "source": [
    "test_df.head()"
   ]
  },
  {
   "cell_type": "markdown",
   "metadata": {},
   "source": [
    "## Rename Column Names"
   ]
  },
  {
   "cell_type": "markdown",
   "metadata": {},
   "source": [
    "So it's easier to read.."
   ]
  },
  {
   "cell_type": "code",
   "execution_count": 8,
   "metadata": {},
   "outputs": [],
   "source": [
    "from copy import deepcopy\n",
    "\n",
    "test_columns_replacement = {\n",
    "    'Column1': 'age',\n",
    "    'Column2': 'sex',\n",
    "    'Column3': 'chest_pain_type',\n",
    "    'Column4': 'resting_blood_pressure',\n",
    "    'Column5': 'serum_cholestrol',\n",
    "    'Column6': 'fasting_blood_sugar',\n",
    "    'Column7': 'resting_ECG',\n",
    "    'Column8': 'max_heart_rate_achieved',\n",
    "    'Column9': 'excercise_induced_angina',\n",
    "    'Column10': 'ST_depression',\n",
    "    'Column11': 'peak_exercise_ST_segment',\n",
    "    'Column12': 'num_of_major_vessels',\n",
    "    'Column13': 'thal',\n",
    "}\n",
    "\n",
    "train_columns_replacement = test_columns_replacement.copy()\n",
    "train_columns_replacement['Column14'] = 'heart_disease_diagnosis'\n",
    "\n",
    "train_df = train_df.rename(columns=train_columns_replacement)\n",
    "\n",
    "test_df = test_df.rename(columns=test_columns_replacement)"
   ]
  },
  {
   "cell_type": "code",
   "execution_count": 9,
   "metadata": {},
   "outputs": [
    {
     "data": {
      "text/html": [
       "<div>\n",
       "<style scoped>\n",
       "    .dataframe tbody tr th:only-of-type {\n",
       "        vertical-align: middle;\n",
       "    }\n",
       "\n",
       "    .dataframe tbody tr th {\n",
       "        vertical-align: top;\n",
       "    }\n",
       "\n",
       "    .dataframe thead th {\n",
       "        text-align: right;\n",
       "    }\n",
       "</style>\n",
       "<table border=\"1\" class=\"dataframe\">\n",
       "  <thead>\n",
       "    <tr style=\"text-align: right;\">\n",
       "      <th></th>\n",
       "      <th>age</th>\n",
       "      <th>sex</th>\n",
       "      <th>chest_pain_type</th>\n",
       "      <th>resting_blood_pressure</th>\n",
       "      <th>serum_cholestrol</th>\n",
       "      <th>fasting_blood_sugar</th>\n",
       "      <th>resting_ECG</th>\n",
       "      <th>max_heart_rate_achieved</th>\n",
       "      <th>excercise_induced_angina</th>\n",
       "      <th>ST_depression</th>\n",
       "      <th>peak_exercise_ST_segment</th>\n",
       "      <th>num_of_major_vessels</th>\n",
       "      <th>thal</th>\n",
       "      <th>heart_disease_diagnosis</th>\n",
       "    </tr>\n",
       "  </thead>\n",
       "  <tbody>\n",
       "    <tr>\n",
       "      <th>0</th>\n",
       "      <td>54</td>\n",
       "      <td>1</td>\n",
       "      <td>4</td>\n",
       "      <td>125</td>\n",
       "      <td>216</td>\n",
       "      <td>0</td>\n",
       "      <td>0</td>\n",
       "      <td>140</td>\n",
       "      <td>0</td>\n",
       "      <td>0</td>\n",
       "      <td>?</td>\n",
       "      <td>?</td>\n",
       "      <td>?</td>\n",
       "      <td>1</td>\n",
       "    </tr>\n",
       "    <tr>\n",
       "      <th>1</th>\n",
       "      <td>55</td>\n",
       "      <td>1</td>\n",
       "      <td>4</td>\n",
       "      <td>158</td>\n",
       "      <td>217</td>\n",
       "      <td>0</td>\n",
       "      <td>0</td>\n",
       "      <td>110</td>\n",
       "      <td>1</td>\n",
       "      <td>2.5</td>\n",
       "      <td>2</td>\n",
       "      <td>?</td>\n",
       "      <td>?</td>\n",
       "      <td>1</td>\n",
       "    </tr>\n",
       "    <tr>\n",
       "      <th>2</th>\n",
       "      <td>54</td>\n",
       "      <td>0</td>\n",
       "      <td>3</td>\n",
       "      <td>135</td>\n",
       "      <td>304</td>\n",
       "      <td>1</td>\n",
       "      <td>0</td>\n",
       "      <td>170</td>\n",
       "      <td>0</td>\n",
       "      <td>0</td>\n",
       "      <td>1</td>\n",
       "      <td>0</td>\n",
       "      <td>3</td>\n",
       "      <td>0</td>\n",
       "    </tr>\n",
       "    <tr>\n",
       "      <th>3</th>\n",
       "      <td>48</td>\n",
       "      <td>0</td>\n",
       "      <td>3</td>\n",
       "      <td>120</td>\n",
       "      <td>195</td>\n",
       "      <td>0</td>\n",
       "      <td>0</td>\n",
       "      <td>125</td>\n",
       "      <td>0</td>\n",
       "      <td>0</td>\n",
       "      <td>?</td>\n",
       "      <td>?</td>\n",
       "      <td>?</td>\n",
       "      <td>0</td>\n",
       "    </tr>\n",
       "    <tr>\n",
       "      <th>4</th>\n",
       "      <td>50</td>\n",
       "      <td>1</td>\n",
       "      <td>4</td>\n",
       "      <td>120</td>\n",
       "      <td>0</td>\n",
       "      <td>0</td>\n",
       "      <td>1</td>\n",
       "      <td>156</td>\n",
       "      <td>1</td>\n",
       "      <td>0</td>\n",
       "      <td>1</td>\n",
       "      <td>?</td>\n",
       "      <td>6</td>\n",
       "      <td>3</td>\n",
       "    </tr>\n",
       "  </tbody>\n",
       "</table>\n",
       "</div>"
      ],
      "text/plain": [
       "   age  sex  chest_pain_type resting_blood_pressure serum_cholestrol  \\\n",
       "0   54    1                4                    125              216   \n",
       "1   55    1                4                    158              217   \n",
       "2   54    0                3                    135              304   \n",
       "3   48    0                3                    120              195   \n",
       "4   50    1                4                    120                0   \n",
       "\n",
       "  fasting_blood_sugar resting_ECG max_heart_rate_achieved  \\\n",
       "0                   0           0                     140   \n",
       "1                   0           0                     110   \n",
       "2                   1           0                     170   \n",
       "3                   0           0                     125   \n",
       "4                   0           1                     156   \n",
       "\n",
       "  excercise_induced_angina ST_depression peak_exercise_ST_segment  \\\n",
       "0                        0             0                        ?   \n",
       "1                        1           2.5                        2   \n",
       "2                        0             0                        1   \n",
       "3                        0             0                        ?   \n",
       "4                        1             0                        1   \n",
       "\n",
       "  num_of_major_vessels thal  heart_disease_diagnosis  \n",
       "0                    ?    ?                        1  \n",
       "1                    ?    ?                        1  \n",
       "2                    0    3                        0  \n",
       "3                    ?    ?                        0  \n",
       "4                    ?    6                        3  "
      ]
     },
     "execution_count": 9,
     "metadata": {},
     "output_type": "execute_result"
    }
   ],
   "source": [
    "train_df.head()"
   ]
  },
  {
   "cell_type": "code",
   "execution_count": 10,
   "metadata": {},
   "outputs": [
    {
     "data": {
      "text/html": [
       "<div>\n",
       "<style scoped>\n",
       "    .dataframe tbody tr th:only-of-type {\n",
       "        vertical-align: middle;\n",
       "    }\n",
       "\n",
       "    .dataframe tbody tr th {\n",
       "        vertical-align: top;\n",
       "    }\n",
       "\n",
       "    .dataframe thead th {\n",
       "        text-align: right;\n",
       "    }\n",
       "</style>\n",
       "<table border=\"1\" class=\"dataframe\">\n",
       "  <thead>\n",
       "    <tr style=\"text-align: right;\">\n",
       "      <th></th>\n",
       "      <th>age</th>\n",
       "      <th>sex</th>\n",
       "      <th>chest_pain_type</th>\n",
       "      <th>resting_blood_pressure</th>\n",
       "      <th>serum_cholestrol</th>\n",
       "      <th>fasting_blood_sugar</th>\n",
       "      <th>resting_ECG</th>\n",
       "      <th>max_heart_rate_achieved</th>\n",
       "      <th>excercise_induced_angina</th>\n",
       "      <th>ST_depression</th>\n",
       "      <th>peak_exercise_ST_segment</th>\n",
       "      <th>num_of_major_vessels</th>\n",
       "      <th>thal</th>\n",
       "    </tr>\n",
       "  </thead>\n",
       "  <tbody>\n",
       "    <tr>\n",
       "      <th>0</th>\n",
       "      <td>60</td>\n",
       "      <td>1</td>\n",
       "      <td>2</td>\n",
       "      <td>160</td>\n",
       "      <td>267</td>\n",
       "      <td>1</td>\n",
       "      <td>1</td>\n",
       "      <td>157</td>\n",
       "      <td>0</td>\n",
       "      <td>0.5</td>\n",
       "      <td>2</td>\n",
       "      <td>?</td>\n",
       "      <td>?</td>\n",
       "    </tr>\n",
       "    <tr>\n",
       "      <th>1</th>\n",
       "      <td>61</td>\n",
       "      <td>1</td>\n",
       "      <td>4</td>\n",
       "      <td>148</td>\n",
       "      <td>203</td>\n",
       "      <td>0</td>\n",
       "      <td>0</td>\n",
       "      <td>161</td>\n",
       "      <td>0</td>\n",
       "      <td>0</td>\n",
       "      <td>1</td>\n",
       "      <td>1</td>\n",
       "      <td>7</td>\n",
       "    </tr>\n",
       "    <tr>\n",
       "      <th>2</th>\n",
       "      <td>54</td>\n",
       "      <td>1</td>\n",
       "      <td>4</td>\n",
       "      <td>130</td>\n",
       "      <td>242</td>\n",
       "      <td>0</td>\n",
       "      <td>0</td>\n",
       "      <td>91</td>\n",
       "      <td>1</td>\n",
       "      <td>1</td>\n",
       "      <td>2</td>\n",
       "      <td>?</td>\n",
       "      <td>?</td>\n",
       "    </tr>\n",
       "    <tr>\n",
       "      <th>3</th>\n",
       "      <td>48</td>\n",
       "      <td>1</td>\n",
       "      <td>4</td>\n",
       "      <td>120</td>\n",
       "      <td>260</td>\n",
       "      <td>0</td>\n",
       "      <td>0</td>\n",
       "      <td>115</td>\n",
       "      <td>0</td>\n",
       "      <td>2</td>\n",
       "      <td>2</td>\n",
       "      <td>?</td>\n",
       "      <td>?</td>\n",
       "    </tr>\n",
       "    <tr>\n",
       "      <th>4</th>\n",
       "      <td>57</td>\n",
       "      <td>0</td>\n",
       "      <td>1</td>\n",
       "      <td>130</td>\n",
       "      <td>308</td>\n",
       "      <td>0</td>\n",
       "      <td>0</td>\n",
       "      <td>98</td>\n",
       "      <td>0</td>\n",
       "      <td>1</td>\n",
       "      <td>2</td>\n",
       "      <td>?</td>\n",
       "      <td>?</td>\n",
       "    </tr>\n",
       "  </tbody>\n",
       "</table>\n",
       "</div>"
      ],
      "text/plain": [
       "   age  sex  chest_pain_type resting_blood_pressure serum_cholestrol  \\\n",
       "0   60    1                2                    160              267   \n",
       "1   61    1                4                    148              203   \n",
       "2   54    1                4                    130              242   \n",
       "3   48    1                4                    120              260   \n",
       "4   57    0                1                    130              308   \n",
       "\n",
       "  fasting_blood_sugar  resting_ECG max_heart_rate_achieved  \\\n",
       "0                   1            1                     157   \n",
       "1                   0            0                     161   \n",
       "2                   0            0                      91   \n",
       "3                   0            0                     115   \n",
       "4                   0            0                      98   \n",
       "\n",
       "  excercise_induced_angina ST_depression peak_exercise_ST_segment  \\\n",
       "0                        0           0.5                        2   \n",
       "1                        0             0                        1   \n",
       "2                        1             1                        2   \n",
       "3                        0             2                        2   \n",
       "4                        0             1                        2   \n",
       "\n",
       "  num_of_major_vessels thal  \n",
       "0                    ?    ?  \n",
       "1                    1    7  \n",
       "2                    ?    ?  \n",
       "3                    ?    ?  \n",
       "4                    ?    ?  "
      ]
     },
     "execution_count": 10,
     "metadata": {},
     "output_type": "execute_result"
    }
   ],
   "source": [
    "test_df.head()"
   ]
  },
  {
   "cell_type": "markdown",
   "metadata": {},
   "source": [
    "## Exploratory Data Analysis"
   ]
  },
  {
   "cell_type": "markdown",
   "metadata": {},
   "source": [
    "### Check For Null Values"
   ]
  },
  {
   "cell_type": "markdown",
   "metadata": {},
   "source": [
    "#### Nan values null"
   ]
  },
  {
   "cell_type": "code",
   "execution_count": 11,
   "metadata": {},
   "outputs": [
    {
     "data": {
      "text/plain": [
       "age                         0\n",
       "sex                         0\n",
       "chest_pain_type             0\n",
       "resting_blood_pressure      0\n",
       "serum_cholestrol            0\n",
       "fasting_blood_sugar         0\n",
       "resting_ECG                 1\n",
       "max_heart_rate_achieved     0\n",
       "excercise_induced_angina    0\n",
       "ST_depression               0\n",
       "peak_exercise_ST_segment    0\n",
       "num_of_major_vessels        0\n",
       "thal                        0\n",
       "heart_disease_diagnosis     0\n",
       "dtype: int64"
      ]
     },
     "execution_count": 11,
     "metadata": {},
     "output_type": "execute_result"
    }
   ],
   "source": [
    "train_df.isnull().sum()"
   ]
  },
  {
   "cell_type": "code",
   "execution_count": 12,
   "metadata": {},
   "outputs": [
    {
     "data": {
      "text/plain": [
       "age                         0\n",
       "sex                         0\n",
       "chest_pain_type             0\n",
       "resting_blood_pressure      0\n",
       "serum_cholestrol            0\n",
       "fasting_blood_sugar         0\n",
       "resting_ECG                 0\n",
       "max_heart_rate_achieved     0\n",
       "excercise_induced_angina    0\n",
       "ST_depression               0\n",
       "peak_exercise_ST_segment    0\n",
       "num_of_major_vessels        0\n",
       "thal                        0\n",
       "dtype: int64"
      ]
     },
     "execution_count": 12,
     "metadata": {},
     "output_type": "execute_result"
    }
   ],
   "source": [
    "test_df.isnull().sum()"
   ]
  },
  {
   "cell_type": "markdown",
   "metadata": {},
   "source": [
    "#### Dataset specific null type"
   ]
  },
  {
   "cell_type": "markdown",
   "metadata": {},
   "source": [
    "Column with values '?' in the dataset is null values a well"
   ]
  },
  {
   "cell_type": "code",
   "execution_count": 13,
   "metadata": {},
   "outputs": [],
   "source": [
    "def pad_text(text, target_length):\n",
    "    assert(len(text) <= target_length)\n",
    "    return text + (' ' * (target_length - len(text)))\n",
    "\n",
    "def print_data_null_encoded(data):\n",
    "    for column in data.columns:\n",
    "        null_values = data[column].apply(lambda x: x == '?')\n",
    "        print('{}: {} ({} %)'.format(pad_text(column, 25),\n",
    "                                     sum(null_values),\n",
    "                                     sum(null_values) * 100 / data.shape[0]))"
   ]
  },
  {
   "cell_type": "code",
   "execution_count": 14,
   "metadata": {},
   "outputs": [
    {
     "name": "stdout",
     "output_type": "stream",
     "text": [
      "==== Train Data ====\n",
      "age                      : 0 (0.0 %)\n",
      "sex                      : 0 (0.0 %)\n",
      "chest_pain_type          : 0 (0.0 %)\n",
      "resting_blood_pressure   : 47 (6.033376123234916 %)\n",
      "serum_cholestrol         : 24 (3.0808729139922977 %)\n",
      "fasting_blood_sugar      : 78 (10.012836970474968 %)\n",
      "resting_ECG              : 1 (0.12836970474967907 %)\n",
      "max_heart_rate_achieved  : 44 (5.648267008985879 %)\n",
      "excercise_induced_angina : 44 (5.648267008985879 %)\n",
      "ST_depression            : 49 (6.290115532734275 %)\n",
      "peak_exercise_ST_segment : 262 (33.632862644415916 %)\n",
      "num_of_major_vessels     : 514 (65.98202824133504 %)\n",
      "thal                     : 408 (52.374839537869065 %)\n",
      "heart_disease_diagnosis  : 0 (0.0 %)\n",
      "\n",
      "\n",
      "\n",
      "==== Test Data ====\n",
      "age                      : 0 (0.0 %)\n",
      "sex                      : 0 (0.0 %)\n",
      "chest_pain_type          : 0 (0.0 %)\n",
      "resting_blood_pressure   : 12 (8.51063829787234 %)\n",
      "serum_cholestrol         : 6 (4.25531914893617 %)\n",
      "fasting_blood_sugar      : 12 (8.51063829787234 %)\n",
      "resting_ECG              : 0 (0.0 %)\n",
      "max_heart_rate_achieved  : 11 (7.801418439716312 %)\n",
      "excercise_induced_angina : 11 (7.801418439716312 %)\n",
      "ST_depression            : 13 (9.21985815602837 %)\n",
      "peak_exercise_ST_segment : 47 (33.333333333333336 %)\n",
      "num_of_major_vessels     : 97 (68.79432624113475 %)\n",
      "thal                     : 78 (55.319148936170215 %)\n"
     ]
    }
   ],
   "source": [
    "print('==== Train Data ====')\n",
    "print_data_null_encoded(train_df)\n",
    "\n",
    "print('\\n\\n')\n",
    "\n",
    "print('==== Test Data ====')\n",
    "print_data_null_encoded(test_df)"
   ]
  },
  {
   "cell_type": "markdown",
   "metadata": {},
   "source": [
    "The above data shows that some of the columns (*num_of_major_vessels*,*thal*) majority values are null. Null values cannot be used in the model and need to be solved. There are several methods to solve this null value problem. One of the methods is imputing null values to some value that could represent the data well."
   ]
  },
  {
   "cell_type": "markdown",
   "metadata": {},
   "source": [
    "### Attribute Analysis"
   ]
  },
  {
   "cell_type": "markdown",
   "metadata": {},
   "source": [
    "####  Heart Disease Diagnosis"
   ]
  },
  {
   "cell_type": "code",
   "execution_count": 28,
   "metadata": {},
   "outputs": [
    {
     "data": {
      "image/png": "[encoded data removed]",
      "text/plain": [
       "<Figure size 432x288 with 1 Axes>"
      ]
     },
     "metadata": {
      "needs_background": "light"
     },
     "output_type": "display_data"
    }
   ],
   "source": [
    "label_count = {}\n",
    "label = train_df['heart_disease_diagnosis']\n",
    "\n",
    "for i in range(5):\n",
    "    label_count[str(i)] = label.loc[label ==i].count()\n",
    "\n",
    "plt.bar(label_count.keys(), [label_count[str(i)] for i in range(5)], label=\"Frequency\")\n",
    "leg = plt.legend()\n",
    "plt.show()"
   ]
  },
  {
   "cell_type": "markdown",
   "metadata": {},
   "source": [
    "The figure above shows the distribution of the labels of the data. We can see that it declines as the label values increases. This implies that the worse the diagnosis is, the occurence of the diagnosis is much rarer."
   ]
  },
  {
   "cell_type": "markdown",
   "metadata": {},
   "source": [
    "#### Age"
   ]
  },
  {
   "cell_type": "code",
   "execution_count": 29,
   "metadata": {},
   "outputs": [
    {
     "data": {
      "image/png": "[encoded data removed]",
      "text/plain": [
       "<Figure size 432x288 with 1 Axes>"
      ]
     },
     "metadata": {
      "needs_background": "light"
     },
     "output_type": "display_data"
    }
   ],
   "source": [
    "sns.boxplot(x=\"heart_disease_diagnosis\", y=\"age\", data=train_df)\n",
    "plt.show()"
   ]
  },
  {
   "cell_type": "markdown",
   "metadata": {},
   "source": [
    "The figure above shows the boxplot of the age of the diagnosed people. We can see that the median value of each group of heart diagnosis increases as the diagnosis goes worse. This implies that the older the person is, there is much more chance to be diagnosed a worse heart disease diagnosis. "
   ]
  },
  {
   "cell_type": "markdown",
   "metadata": {},
   "source": [
    "### Sex "
   ]
  },
  {
   "cell_type": "code",
   "execution_count": 30,
   "metadata": {},
   "outputs": [
    {
     "data": {
      "image/png": "[encoded data removed]",
      "text/plain": [
       "<Figure size 360x360 with 1 Axes>"
      ]
     },
     "metadata": {
      "needs_background": "light"
     },
     "output_type": "display_data"
    }
   ],
   "source": [
    "sns.catplot(x=\"sex\", y=\"heart_disease_diagnosis\", data=train_df)\n",
    "plt.show()"
   ]
  },
  {
   "cell_type": "markdown",
   "metadata": {},
   "source": [
    "The figure above shows the catplot of the sex of the diagnosed people. Sex number 1 (male) is much more prone to the worse heart disease diagnosis."
   ]
  },
  {
   "cell_type": "markdown",
   "metadata": {},
   "source": [
    "#### Chest Pain Type"
   ]
  },
  {
   "cell_type": "code",
   "execution_count": 33,
   "metadata": {},
   "outputs": [
    {
     "data": {
      "image/png": "[encoded data removed]",
      "text/plain": [
       "<Figure size 360x360 with 1 Axes>"
      ]
     },
     "metadata": {
      "needs_background": "light"
     },
     "output_type": "display_data"
    }
   ],
   "source": [
    "sns.catplot(x=\"chest_pain_type\", y=\"heart_disease_diagnosis\", \n",
    "            data=train_df.loc[train_df['chest_pain_type'].astype(str) != '?'])\n",
    "plt.show()"
   ]
  },
  {
   "cell_type": "markdown",
   "metadata": {},
   "source": [
    "The figure above shows the cat plot of the chest pain type for each heart disease diagnosis. For the worst heart disease diagnosis, chest pain type 4 is dominant."
   ]
  },
  {
   "cell_type": "markdown",
   "metadata": {},
   "source": [
    "### Resting Blood Pressure"
   ]
  },
  {
   "cell_type": "code",
   "execution_count": 35,
   "metadata": {},
   "outputs": [
    {
     "data": {
      "image/png": "[encoded data removed]",
      "text/plain": [
       "<Figure size 432x288 with 1 Axes>"
      ]
     },
     "metadata": {
      "needs_background": "light"
     },
     "output_type": "display_data"
    }
   ],
   "source": [
    "clean_data = train_df.loc[train_df['resting_blood_pressure'].astype(str) != '?' ]\n",
    "clean_data = clean_data[['resting_blood_pressure', 'heart_disease_diagnosis']].astype(int)\n",
    "sns.boxplot(x=\"heart_disease_diagnosis\", y=\"resting_blood_pressure\", \n",
    "            data=clean_data)\n",
    "plt.show()"
   ]
  },
  {
   "cell_type": "markdown",
   "metadata": {},
   "source": [
    "The figure above shows the box plot of the resting blood pressure for each diagnosed person. There is no apparent difference between the five heart disease category. This shows a low variance of data."
   ]
  },
  {
   "cell_type": "markdown",
   "metadata": {},
   "source": [
    "### Serum Cholestrol "
   ]
  },
  {
   "cell_type": "code",
   "execution_count": 37,
   "metadata": {},
   "outputs": [
    {
     "data": {
      "image/png": "[encoded data removed]",
      "text/plain": [
       "<Figure size 432x288 with 1 Axes>"
      ]
     },
     "metadata": {
      "needs_background": "light"
     },
     "output_type": "display_data"
    }
   ],
   "source": [
    "clean_data = train_df.loc[train_df['serum_cholestrol'].astype(str) != '?' ]\n",
    "clean_data = clean_data[['serum_cholestrol', 'heart_disease_diagnosis']].astype(int)\n",
    "sns.boxplot(x=\"heart_disease_diagnosis\", y=\"serum_cholestrol\", \n",
    "            data=clean_data)\n",
    "plt.show()"
   ]
  },
  {
   "cell_type": "markdown",
   "metadata": {},
   "source": [
    "The figure above shows the box plot of the serum cholestrol for each diagnosed person. There are a lot of zero values in the data, making the heart disease diagnosis 2 and 3 have a really wide boxplot.    "
   ]
  },
  {
   "cell_type": "markdown",
   "metadata": {},
   "source": [
    "### Resting ECG"
   ]
  },
  {
   "cell_type": "code",
   "execution_count": 38,
   "metadata": {},
   "outputs": [
    {
     "data": {
      "image/png": "[encoded data removed]",
      "text/plain": [
       "<Figure size 360x360 with 1 Axes>"
      ]
     },
     "metadata": {
      "needs_background": "light"
     },
     "output_type": "display_data"
    }
   ],
   "source": [
    "clean_data = train_df.loc[train_df['resting_ECG'].astype(str) != '?']\n",
    "clean_data = clean_data.loc[~clean_data['resting_ECG'].isna()]\n",
    "clean_data = clean_data[['resting_ECG', 'heart_disease_diagnosis']].astype(int)\n",
    "sns.catplot(x=\"resting_ECG\", y=\"heart_disease_diagnosis\", \n",
    "            data=clean_data)\n",
    "plt.show()"
   ]
  },
  {
   "cell_type": "markdown",
   "metadata": {},
   "source": [
    "The figure above shows the catplot of the resting ECG for each diagnosed person. There is no apparent difference between the 3 type of resting ECG, looking at the frequency of each heart disease category"
   ]
  },
  {
   "cell_type": "markdown",
   "metadata": {},
   "source": [
    "### Max Heart Rate Achieved"
   ]
  },
  {
   "cell_type": "code",
   "execution_count": 39,
   "metadata": {},
   "outputs": [
    {
     "data": {
      "image/png": "[encoded data removed]",
      "text/plain": [
       "<Figure size 432x288 with 1 Axes>"
      ]
     },
     "metadata": {
      "needs_background": "light"
     },
     "output_type": "display_data"
    }
   ],
   "source": [
    "clean_data = train_df.loc[train_df['max_heart_rate_achieved'].astype(str) != '?' ]\n",
    "clean_data = clean_data[['max_heart_rate_achieved', 'heart_disease_diagnosis']].astype(int)\n",
    "sns.boxplot(x=\"heart_disease_diagnosis\", y=\"max_heart_rate_achieved\", \n",
    "            data=clean_data)\n",
    "plt.show()"
   ]
  },
  {
   "cell_type": "markdown",
   "metadata": {},
   "source": [
    "The figure above shows the box plot of the max heart rate achieved for each person. The max heart rate is higher when the person is not diagnosed with a heart disease. "
   ]
  },
  {
   "cell_type": "markdown",
   "metadata": {},
   "source": [
    "### Exercise Induced Angina"
   ]
  },
  {
   "cell_type": "code",
   "execution_count": 40,
   "metadata": {},
   "outputs": [
    {
     "data": {
      "image/png": "[encoded data removed]",
      "text/plain": [
       "<Figure size 360x360 with 1 Axes>"
      ]
     },
     "metadata": {
      "needs_background": "light"
     },
     "output_type": "display_data"
    }
   ],
   "source": [
    "clean_data = train_df.loc[train_df['excercise_induced_angina'].astype(str) != '?']\n",
    "clean_data = clean_data.loc[~clean_data['excercise_induced_angina'].isna()]\n",
    "clean_data = clean_data[['excercise_induced_angina', 'heart_disease_diagnosis']].astype(int)\n",
    "sns.catplot(x=\"excercise_induced_angina\", y=\"heart_disease_diagnosis\", \n",
    "            data=clean_data)\n",
    "plt.show()"
   ]
  },
  {
   "cell_type": "markdown",
   "metadata": {},
   "source": [
    "The figure above shows the catplot of the exercise induced angina for each diagnosed person. There is no apparent difference between the 2 type of exercise induced angina, looking at the frequency of each heart disease category"
   ]
  },
  {
   "cell_type": "markdown",
   "metadata": {},
   "source": [
    "### ST Depression"
   ]
  },
  {
   "cell_type": "code",
   "execution_count": 41,
   "metadata": {},
   "outputs": [
    {
     "data": {
      "image/png": "[encoded data removed]",
      "text/plain": [
       "<Figure size 432x288 with 1 Axes>"
      ]
     },
     "metadata": {
      "needs_background": "light"
     },
     "output_type": "display_data"
    }
   ],
   "source": [
    "clean_data = train_df.loc[train_df['ST_depression'].astype(str) != '?' ]\n",
    "clean_data = clean_data[['ST_depression', 'heart_disease_diagnosis']].astype(float)\n",
    "sns.boxplot(x=\"heart_disease_diagnosis\", y=\"ST_depression\", \n",
    "            data=clean_data)\n",
    "plt.show()"
   ]
  },
  {
   "cell_type": "markdown",
   "metadata": {},
   "source": [
    "The figure above shows the box plot of the ST Depression for each person. There is a very low variance for the ST depression for each of the heart diagnosis. "
   ]
  },
  {
   "cell_type": "markdown",
   "metadata": {},
   "source": [
    "### Peak Exercise ST Segment"
   ]
  },
  {
   "cell_type": "code",
   "execution_count": 42,
   "metadata": {},
   "outputs": [
    {
     "data": {
      "image/png": "[encoded data removed]",
      "text/plain": [
       "<Figure size 360x360 with 1 Axes>"
      ]
     },
     "metadata": {
      "needs_background": "light"
     },
     "output_type": "display_data"
    }
   ],
   "source": [
    "clean_data = train_df.loc[train_df['peak_exercise_ST_segment'].astype(str) != '?']\n",
    "clean_data = clean_data.loc[~clean_data['peak_exercise_ST_segment'].isna()]\n",
    "clean_data = clean_data[['peak_exercise_ST_segment', 'heart_disease_diagnosis']].astype(int)\n",
    "sns.catplot(x=\"peak_exercise_ST_segment\", y=\"heart_disease_diagnosis\", \n",
    "            data=clean_data)\n",
    "plt.show()"
   ]
  },
  {
   "cell_type": "markdown",
   "metadata": {},
   "source": [
    "The figure above shows the catplot of the peak exercise ST segment for each diagnosed person. There is no apparent difference between the 2 type of exercise induced angina, looking at the frequency of each heart disease category"
   ]
  },
  {
   "cell_type": "markdown",
   "metadata": {},
   "source": [
    "### Number of Major Vessels"
   ]
  },
  {
   "cell_type": "code",
   "execution_count": 46,
   "metadata": {},
   "outputs": [
    {
     "data": {
      "image/png": "[encoded data removed]",
      "text/plain": [
       "<Figure size 432x288 with 1 Axes>"
      ]
     },
     "metadata": {
      "needs_background": "light"
     },
     "output_type": "display_data"
    }
   ],
   "source": [
    "clean_data = train_df.loc[train_df['num_of_major_vessels'].astype(str) != '?' ]\n",
    "clean_data = clean_data[['num_of_major_vessels', 'heart_disease_diagnosis']].astype(float)\n",
    "sns.boxplot(x=\"heart_disease_diagnosis\", y=\"num_of_major_vessels\", \n",
    "            data=clean_data)\n",
    "plt.show()"
   ]
  },
  {
   "cell_type": "markdown",
   "metadata": {},
   "source": [
    "The figure above shows the box plot of the number of major vessels for each person. No major vessel is found in the person with negative heart disease diagnosis. "
   ]
  },
  {
   "cell_type": "markdown",
   "metadata": {},
   "source": [
    "### Thal"
   ]
  },
  {
   "cell_type": "code",
   "execution_count": 32,
   "metadata": {},
   "outputs": [
    {
     "data": {
      "image/png": "[encoded data removed]",
      "text/plain": [
       "<Figure size 360x360 with 1 Axes>"
      ]
     },
     "metadata": {
      "needs_background": "light"
     },
     "output_type": "display_data"
    }
   ],
   "source": [
    "clean_data = train_df.loc[train_df['thal'].astype(str) != '?']\n",
    "clean_data = clean_data.loc[~clean_data['thal'].isna()]\n",
    "clean_data = clean_data[['thal', 'heart_disease_diagnosis']].astype(int)\n",
    "sns.catplot(x=\"thal\", y=\"heart_disease_diagnosis\", \n",
    "            data=clean_data)\n",
    "plt.show()"
   ]
  },
  {
   "cell_type": "markdown",
   "metadata": {},
   "source": [
    "The figure above shows the catplot of the thal for each diagnosed person. There is no apparent difference between the 3 type of thal, looking at the frequency of each heart disease category"
   ]
  }
 ],
 "metadata": {
  "kernelspec": {
   "display_name": "Python 3",
   "language": "python",
   "name": "python3"
  },
  "language_info": {
   "codemirror_mode": {
    "name": "ipython",
    "version": 3
   },
   "file_extension": ".py",
   "mimetype": "text/x-python",
   "name": "python",
   "nbconvert_exporter": "python",
   "pygments_lexer": "ipython3",
   "version": "3.6.6"
  }
 },
 "nbformat": 4,
 "nbformat_minor": 2
}
